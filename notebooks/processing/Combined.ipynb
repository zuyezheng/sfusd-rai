{
 "cells": [
  {
   "cell_type": "markdown",
   "metadata": {},
   "source": [
    "# Combine Data by Schools"
   ]
  },
  {
   "cell_type": "code",
   "execution_count": 2,
   "metadata": {},
   "outputs": [],
   "source": [
    "%run notebooks/Setup.ipynb\n",
    "\n",
    "import polars as polars"
   ]
  },
  {
   "cell_type": "markdown",
   "metadata": {},
   "source": [
    "## Augment Composite Scores with Demographics"
   ]
  },
  {
   "cell_type": "code",
   "execution_count": 3,
   "metadata": {},
   "outputs": [],
   "source": [
    "geo = polars.read_csv(workspace_path.joinpath('data/processed/composite_scores_raw.csv')).select(['school_name', 'latitude', 'longitude'])\n",
    "component_scores = polars.read_csv(workspace_path.joinpath('data/processed/component_scores.csv'))\n",
    "supervisors = polars.read_csv(workspace_path.joinpath('data/raw/supervisors.csv'))\n",
    "demographics = polars.read_csv(workspace_path.joinpath('data/processed/race_ethnicity_demographics.csv'))\n",
    "facility = polars.read_csv(workspace_path.joinpath('data/processed/facilities.csv'))\n",
    "capacity = polars.read_csv(workspace_path.joinpath('data/processed/capacity.csv'))\n",
    "caaspp_ela = polars.read_csv(workspace_path.joinpath('data/processed/caaspp_ela.csv'))\n",
    "caaspp_math = polars.read_csv(workspace_path.joinpath('data/processed/caaspp_math.csv'))\n",
    "cast = polars.read_csv(workspace_path.joinpath('data/processed/cast.csv'))"
   ]
  },
  {
   "cell_type": "code",
   "execution_count": 4,
   "metadata": {},
   "outputs": [
    {
     "data": {
      "text/html": [
       "<div><style>\n",
       ".dataframe > thead > tr,\n",
       ".dataframe > tbody > tr {\n",
       "  text-align: right;\n",
       "  white-space: pre-wrap;\n",
       "}\n",
       "</style>\n",
       "<small>shape: (101, 68)</small><table border=\"1\" class=\"dataframe\"><thead><tr><th>school_name</th><th>composite_score</th><th>equity_rank</th><th>excellence_rank</th><th>efficiency_rank</th><th>enrollment</th><th>equity_score_p</th><th>excellence_score_p</th><th>efficiency_score_p</th><th>composite_score_p</th><th>district</th><th>supervisor</th><th>asian_students</th><th>african_american_students</th><th>not_reported_students</th><th>filipino_students</th><th>hispanic_or_latino_students</th><th>two_or_more_races_students</th><th>white_students</th><th>pacific_islander_students</th><th>american_indian_or_alaska_native_students</th><th>asian_percent</th><th>african_american_percent</th><th>not_reported_percent</th><th>filipino_percent</th><th>hispanic_or_latino_percent</th><th>two_or_more_races_percent</th><th>white_percent</th><th>pacific_islander_percent</th><th>american_indian_or_alaska_native_percent</th><th>replacement_costs_in_years_1—5</th><th>overall_campus_fci</th><th>building_fci</th><th>exterior_site_fci</th><th>electrical_system</th><th>equipment</th><th>exterior_enclosure</th><th>fire_protection</th><th>furnishings</th><th>hvac_system</th><th>student_enrollment</th><th>enrollment_capacity</th><th>bond_investments_since_2003</th><th>classrooms</th><th>lot_sq_ft</th><th>year_built</th><th>building_sq_ft</th><th>primary_program</th><th>latitude</th><th>longitude</th><th>ela_total_students_tested</th><th>ela_percentage_standard_exceeded</th><th>ela_percentage_standard_met</th><th>ela_percentage_standard_met_and_above</th><th>ela_percentage_standard_nearly_met</th><th>ela_percentage_standard_not_met</th><th>math_total_students_tested</th><th>math_percentage_standard_exceeded</th><th>math_percentage_standard_met</th><th>math_percentage_standard_met_and_above</th><th>math_percentage_standard_nearly_met</th><th>math_percentage_standard_not_met</th><th>science_total_students_tested</th><th>science_percentage_standard_exceeded</th><th>science_percentage_standard_met</th><th>science_percentage_standard_met_and_above</th><th>science_percentage_standard_nearly_met</th><th>science_percentage_standard_not_met</th></tr><tr><td>str</td><td>f64</td><td>i64</td><td>i64</td><td>i64</td><td>i64</td><td>f64</td><td>f64</td><td>f64</td><td>f64</td><td>i64</td><td>str</td><td>i64</td><td>i64</td><td>i64</td><td>i64</td><td>i64</td><td>i64</td><td>i64</td><td>i64</td><td>i64</td><td>f64</td><td>f64</td><td>f64</td><td>f64</td><td>f64</td><td>f64</td><td>f64</td><td>f64</td><td>f64</td><td>i64</td><td>f64</td><td>f64</td><td>f64</td><td>f64</td><td>f64</td><td>f64</td><td>f64</td><td>f64</td><td>f64</td><td>i64</td><td>i64</td><td>i64</td><td>i64</td><td>i64</td><td>i64</td><td>i64</td><td>str</td><td>f64</td><td>f64</td><td>i64</td><td>f64</td><td>f64</td><td>f64</td><td>f64</td><td>f64</td><td>i64</td><td>f64</td><td>f64</td><td>f64</td><td>f64</td><td>f64</td><td>i64</td><td>f64</td><td>f64</td><td>f64</td><td>f64</td><td>f64</td></tr></thead><tbody><tr><td>&quot;Washington (George) High&quot;</td><td>72.91</td><td>81</td><td>52</td><td>98</td><td>2091</td><td>63.294783</td><td>37.851138</td><td>93.061238</td><td>64.375485</td><td>1</td><td>&quot;Connie Chan&quot;</td><td>1018</td><td>87</td><td>69</td><td>62</td><td>370</td><td>126</td><td>262</td><td>11</td><td>3</td><td>50.697211</td><td>4.332669</td><td>3.436255</td><td>3.087649</td><td>18.426295</td><td>6.2749</td><td>13.047809</td><td>0.547809</td><td>0.149402</td><td>18427650</td><td>0.14</td><td>0.12</td><td>0.27</td><td>0.12</td><td>0.0</td><td>0.0</td><td>0.41</td><td>0.41</td><td>null</td><td>2068</td><td>2101</td><td>97404162</td><td>100</td><td>679002</td><td>1936</td><td>247800</td><td>&quot;HS&quot;</td><td>37.777765</td><td>-122.492016</td><td>421</td><td>43.61</td><td>35.66</td><td>79.28</td><td>13.49</td><td>7.23</td><td>407</td><td>29.6</td><td>28.61</td><td>58.21</td><td>23.13</td><td>18.66</td><td>366</td><td>9.92</td><td>34.99</td><td>44.9</td><td>46.56</td><td>8.54</td></tr><tr><td>&quot;Presidio Middle&quot;</td><td>51.16</td><td>52</td><td>44</td><td>94</td><td>996</td><td>39.098491</td><td>31.936443</td><td>80.958686</td><td>47.773028</td><td>1</td><td>&quot;Connie Chan&quot;</td><td>343</td><td>28</td><td>65</td><td>29</td><td>151</td><td>135</td><td>226</td><td>1</td><td>2</td><td>35.0</td><td>2.857143</td><td>6.632653</td><td>2.959184</td><td>15.408163</td><td>13.77551</td><td>23.061224</td><td>0.102041</td><td>0.204082</td><td>25167306</td><td>0.25</td><td>0.24</td><td>0.35</td><td>0.1</td><td>0.39</td><td>0.39</td><td>null</td><td>null</td><td>0.38</td><td>987</td><td>1015</td><td>19362502</td><td>47</td><td>144000</td><td>1930</td><td>140000</td><td>&quot;MS&quot;</td><td>37.780842</td><td>-122.490093</td><td>938</td><td>31.73</td><td>35.9</td><td>67.63</td><td>18.16</td><td>14.21</td><td>932</td><td>27.1</td><td>24.3</td><td>51.4</td><td>25.05</td><td>23.55</td><td>309</td><td>17.8</td><td>27.83</td><td>45.63</td><td>45.63</td><td>8.74</td></tr><tr><td>&quot;Lafayette Elementary&quot;</td><td>23.61</td><td>7</td><td>96</td><td>48</td><td>468</td><td>0.0</td><td>86.009098</td><td>34.900858</td><td>30.227489</td><td>1</td><td>&quot;Connie Chan&quot;</td><td>173</td><td>7</td><td>28</td><td>12</td><td>62</td><td>72</td><td>118</td><td>2</td><td>null</td><td>36.49789</td><td>1.476793</td><td>5.907173</td><td>2.531646</td><td>13.080169</td><td>15.189873</td><td>24.894515</td><td>0.421941</td><td>null</td><td>7482095</td><td>0.19</td><td>0.18</td><td>0.29</td><td>0.1</td><td>null</td><td>0.03</td><td>null</td><td>null</td><td>null</td><td>494</td><td>531</td><td>26530616</td><td>26</td><td>74400</td><td>1927</td><td>54283</td><td>&quot;ES&quot;</td><td>37.777548</td><td>-122.496864</td><td>233</td><td>51.93</td><td>26.61</td><td>78.54</td><td>14.59</td><td>6.87</td><td>237</td><td>51.05</td><td>29.54</td><td>80.59</td><td>11.81</td><td>7.59</td><td>83</td><td>26.51</td><td>42.17</td><td>68.67</td><td>27.71</td><td>3.61</td></tr><tr><td>&quot;Alamo Elementary&quot;</td><td>14.13</td><td>6</td><td>74</td><td>35</td><td>390</td><td>0.0</td><td>55.243183</td><td>25.054181</td><td>20.074341</td><td>1</td><td>&quot;Connie Chan&quot;</td><td>130</td><td>5</td><td>27</td><td>10</td><td>59</td><td>48</td><td>114</td><td>null</td><td>null</td><td>33.07888</td><td>1.272265</td><td>6.870229</td><td>2.544529</td><td>15.012723</td><td>12.21374</td><td>29.007634</td><td>null</td><td>null</td><td>14767840</td><td>0.34</td><td>0.39</td><td>0.06</td><td>0.81</td><td>null</td><td>0.13</td><td>0.0</td><td>0.0</td><td>1.05</td><td>435</td><td>413</td><td>2862675</td><td>27</td><td>60000</td><td>1926</td><td>50420</td><td>&quot;ES&quot;</td><td>37.783034</td><td>-122.482727</td><td>194</td><td>43.81</td><td>24.23</td><td>68.04</td><td>16.49</td><td>15.46</td><td>194</td><td>43.3</td><td>26.8</td><td>70.1</td><td>18.56</td><td>11.34</td><td>67</td><td>22.39</td><td>34.33</td><td>56.72</td><td>34.33</td><td>8.96</td></tr><tr><td>&quot;Argonne Elementary&quot;</td><td>11.46</td><td>4</td><td>75</td><td>40</td><td>389</td><td>0.0</td><td>56.150348</td><td>28.927687</td><td>21.269509</td><td>1</td><td>&quot;Connie Chan&quot;</td><td>118</td><td>12</td><td>33</td><td>13</td><td>43</td><td>39</td><td>108</td><td>2</td><td>null</td><td>32.065217</td><td>3.26087</td><td>8.967391</td><td>3.532609</td><td>11.684783</td><td>10.597826</td><td>29.347826</td><td>0.543478</td><td>null</td><td>9395256</td><td>0.325</td><td>0.315</td><td>0.3</td><td>0.69</td><td>0.2</td><td>0.175</td><td>0.0</td><td>0.27</td><td>0.0</td><td>389</td><td>398</td><td>300000</td><td>20</td><td>68520</td><td>1997</td><td>52000</td><td>&quot;ES&quot;</td><td>37.775159</td><td>-122.476784</td><td>170</td><td>39.05</td><td>21.89</td><td>60.95</td><td>21.89</td><td>17.16</td><td>169</td><td>31.95</td><td>31.36</td><td>63.31</td><td>23.67</td><td>13.02</td><td>60</td><td>26.67</td><td>30.0</td><td>56.67</td><td>38.33</td><td>5.0</td></tr><tr><td>&hellip;</td><td>&hellip;</td><td>&hellip;</td><td>&hellip;</td><td>&hellip;</td><td>&hellip;</td><td>&hellip;</td><td>&hellip;</td><td>&hellip;</td><td>&hellip;</td><td>&hellip;</td><td>&hellip;</td><td>&hellip;</td><td>&hellip;</td><td>&hellip;</td><td>&hellip;</td><td>&hellip;</td><td>&hellip;</td><td>&hellip;</td><td>&hellip;</td><td>&hellip;</td><td>&hellip;</td><td>&hellip;</td><td>&hellip;</td><td>&hellip;</td><td>&hellip;</td><td>&hellip;</td><td>&hellip;</td><td>&hellip;</td><td>&hellip;</td><td>&hellip;</td><td>&hellip;</td><td>&hellip;</td><td>&hellip;</td><td>&hellip;</td><td>&hellip;</td><td>&hellip;</td><td>&hellip;</td><td>&hellip;</td><td>&hellip;</td><td>&hellip;</td><td>&hellip;</td><td>&hellip;</td><td>&hellip;</td><td>&hellip;</td><td>&hellip;</td><td>&hellip;</td><td>&hellip;</td><td>&hellip;</td><td>&hellip;</td><td>&hellip;</td><td>&hellip;</td><td>&hellip;</td><td>&hellip;</td><td>&hellip;</td><td>&hellip;</td><td>&hellip;</td><td>&hellip;</td><td>&hellip;</td><td>&hellip;</td><td>&hellip;</td><td>&hellip;</td><td>&hellip;</td><td>&hellip;</td><td>&hellip;</td><td>&hellip;</td><td>&hellip;</td><td>&hellip;</td></tr><tr><td>&quot;Milk (Harvey) Civil Rights Ele…</td><td>21.5</td><td>9</td><td>73</td><td>71</td><td>133</td><td>0.0</td><td>54.352953</td><td>52.617792</td><td>26.742686</td><td>8</td><td>&quot;Rafael Mandelman&quot;</td><td>1</td><td>22</td><td>7</td><td>null</td><td>32</td><td>20</td><td>70</td><td>2</td><td>null</td><td>0.649351</td><td>14.285714</td><td>4.545455</td><td>null</td><td>20.779221</td><td>12.987013</td><td>45.454545</td><td>1.298701</td><td>null</td><td>489965</td><td>0.02</td><td>0.0</td><td>0.42</td><td>0.0</td><td>null</td><td>0.42</td><td>0.0</td><td>0.0</td><td>null</td><td>187</td><td>198</td><td>20716327</td><td>11</td><td>31405</td><td>1956</td><td>30560</td><td>&quot;ES&quot;</td><td>37.759142</td><td>-122.436348</td><td>89</td><td>42.7</td><td>28.09</td><td>70.79</td><td>8.99</td><td>20.22</td><td>89</td><td>30.34</td><td>17.98</td><td>48.31</td><td>20.22</td><td>31.46</td><td>30</td><td>26.67</td><td>46.67</td><td>73.33</td><td>16.67</td><td>10.0</td></tr><tr><td>&quot;Everett Middle&quot;</td><td>15.2</td><td>79</td><td>1</td><td>4</td><td>404</td><td>61.228763</td><td>0.0</td><td>0.0</td><td>30.614381</td><td>8</td><td>&quot;Rafael Mandelman&quot;</td><td>7</td><td>26</td><td>16</td><td>5</td><td>358</td><td>18</td><td>35</td><td>null</td><td>2</td><td>1.498929</td><td>5.567452</td><td>3.426124</td><td>1.070664</td><td>76.659529</td><td>3.85439</td><td>7.494647</td><td>null</td><td>0.428266</td><td>50951547</td><td>0.53</td><td>0.54</td><td>0.23</td><td>0.74</td><td>0.93</td><td>0.36</td><td>0.0</td><td>1.23</td><td>1.04</td><td>598</td><td>637</td><td>12809961</td><td>38</td><td>178298</td><td>1928</td><td>155370</td><td>&quot;MS&quot;</td><td>37.764027</td><td>-122.428692</td><td>409</td><td>3.93</td><td>11.79</td><td>15.72</td><td>17.69</td><td>66.58</td><td>481</td><td>3.33</td><td>6.04</td><td>9.38</td><td>15.0</td><td>75.63</td><td>182</td><td>1.65</td><td>4.4</td><td>6.04</td><td>53.85</td><td>40.11</td></tr><tr><td>&quot;Lilienthal (Claire) Elementary&quot;</td><td>40.88</td><td>31</td><td>87</td><td>61</td><td>674</td><td>23.063878</td><td>69.158131</td><td>44.586996</td><td>39.968221</td><td>2</td><td>&quot;Catherine Stefani&quot;</td><td>194</td><td>47</td><td>50</td><td>13</td><td>78</td><td>114</td><td>174</td><td>null</td><td>null</td><td>28.955224</td><td>7.014925</td><td>7.462687</td><td>1.940299</td><td>11.641791</td><td>17.014925</td><td>25.970149</td><td>null</td><td>null</td><td>7443225</td><td>0.21</td><td>0.205</td><td>0.325</td><td>0.44</td><td>1.25</td><td>0.14</td><td>0.0</td><td>0.625</td><td>0.0</td><td>645</td><td>657</td><td>27650231</td><td>37</td><td>119230</td><td>1920</td><td>24919</td><td>&quot;ES&quot;</td><td>37.803091</td><td>-122.443403</td><td>412</td><td>57.04</td><td>26.7</td><td>83.74</td><td>10.44</td><td>5.83</td><td>412</td><td>60.44</td><td>19.9</td><td>80.34</td><td>10.92</td><td>8.74</td><td>129</td><td>29.46</td><td>33.33</td><td>62.79</td><td>30.23</td><td>6.98</td></tr><tr><td>&quot;Marina Middle&quot;</td><td>35.98</td><td>65</td><td>17</td><td>49</td><td>666</td><td>48.945168</td><td>8.509072</td><td>35.638621</td><td>35.509507</td><td>2</td><td>&quot;Catherine Stefani&quot;</td><td>383</td><td>37</td><td>30</td><td>18</td><td>113</td><td>25</td><td>48</td><td>null</td><td>null</td><td>58.562691</td><td>5.657492</td><td>4.587156</td><td>2.752294</td><td>17.278287</td><td>3.82263</td><td>7.33945</td><td>null</td><td>null</td><td>32251032</td><td>0.3</td><td>0.29</td><td>0.89</td><td>0.21</td><td>0.06</td><td>0.19</td><td>0.6</td><td>0.73</td><td>0.73</td><td>684</td><td>739</td><td>44021773</td><td>47</td><td>281180</td><td>1930</td><td>152900</td><td>&quot;MS&quot;</td><td>37.801764</td><td>-122.436362</td><td>627</td><td>14.51</td><td>34.77</td><td>49.28</td><td>24.72</td><td>26.0</td><td>629</td><td>23.89</td><td>17.52</td><td>41.4</td><td>24.52</td><td>34.08</td><td>209</td><td>12.92</td><td>31.58</td><td>44.5</td><td>45.45</td><td>10.05</td></tr><tr><td>&quot;Sherman Elementary&quot;</td><td>13.85</td><td>15</td><td>64</td><td>14</td><td>293</td><td>7.400342</td><td>46.909982</td><td>4.901997</td><td>16.653166</td><td>2</td><td>&quot;Catherine Stefani&quot;</td><td>39</td><td>26</td><td>27</td><td>9</td><td>53</td><td>25</td><td>100</td><td>2</td><td>1</td><td>13.829787</td><td>9.219858</td><td>9.574468</td><td>3.191489</td><td>18.794326</td><td>8.865248</td><td>35.460993</td><td>0.70922</td><td>0.35461</td><td>11291026</td><td>0.3</td><td>0.35</td><td>0.03</td><td>0.74</td><td>null</td><td>0.06</td><td>null</td><td>null</td><td>0.0</td><td>285</td><td>322</td><td>1171140</td><td>26</td><td>75625</td><td>1928</td><td>56200</td><td>&quot;ES&quot;</td><td>37.798182</td><td>-122.426452</td><td>102</td><td>31.37</td><td>19.61</td><td>50.98</td><td>21.57</td><td>27.45</td><td>108</td><td>25.0</td><td>22.22</td><td>47.22</td><td>30.56</td><td>22.22</td><td>38</td><td>18.42</td><td>23.68</td><td>42.11</td><td>50.0</td><td>7.89</td></tr></tbody></table></div>"
      ],
      "text/plain": [
       "shape: (101, 68)\n",
       "┌───────────┬───────────┬───────────┬───────────┬───┬───────────┬───────────┬───────────┬──────────┐\n",
       "│ school_na ┆ composite ┆ equity_ra ┆ excellenc ┆ … ┆ science_p ┆ science_p ┆ science_p ┆ science_ │\n",
       "│ me        ┆ _score    ┆ nk        ┆ e_rank    ┆   ┆ ercentage ┆ ercentage ┆ ercentage ┆ percenta │\n",
       "│ ---       ┆ ---       ┆ ---       ┆ ---       ┆   ┆ _standard ┆ _standard ┆ _standard ┆ ge_stand │\n",
       "│ str       ┆ f64       ┆ i64       ┆ i64       ┆   ┆ _me…      ┆ _me…      ┆ _ne…      ┆ ard_no…  │\n",
       "│           ┆           ┆           ┆           ┆   ┆ ---       ┆ ---       ┆ ---       ┆ ---      │\n",
       "│           ┆           ┆           ┆           ┆   ┆ f64       ┆ f64       ┆ f64       ┆ f64      │\n",
       "╞═══════════╪═══════════╪═══════════╪═══════════╪═══╪═══════════╪═══════════╪═══════════╪══════════╡\n",
       "│ Washingto ┆ 72.91     ┆ 81        ┆ 52        ┆ … ┆ 34.99     ┆ 44.9      ┆ 46.56     ┆ 8.54     │\n",
       "│ n         ┆           ┆           ┆           ┆   ┆           ┆           ┆           ┆          │\n",
       "│ (George)  ┆           ┆           ┆           ┆   ┆           ┆           ┆           ┆          │\n",
       "│ High      ┆           ┆           ┆           ┆   ┆           ┆           ┆           ┆          │\n",
       "│ Presidio  ┆ 51.16     ┆ 52        ┆ 44        ┆ … ┆ 27.83     ┆ 45.63     ┆ 45.63     ┆ 8.74     │\n",
       "│ Middle    ┆           ┆           ┆           ┆   ┆           ┆           ┆           ┆          │\n",
       "│ Lafayette ┆ 23.61     ┆ 7         ┆ 96        ┆ … ┆ 42.17     ┆ 68.67     ┆ 27.71     ┆ 3.61     │\n",
       "│ Elementar ┆           ┆           ┆           ┆   ┆           ┆           ┆           ┆          │\n",
       "│ y         ┆           ┆           ┆           ┆   ┆           ┆           ┆           ┆          │\n",
       "│ Alamo Ele ┆ 14.13     ┆ 6         ┆ 74        ┆ … ┆ 34.33     ┆ 56.72     ┆ 34.33     ┆ 8.96     │\n",
       "│ mentary   ┆           ┆           ┆           ┆   ┆           ┆           ┆           ┆          │\n",
       "│ Argonne   ┆ 11.46     ┆ 4         ┆ 75        ┆ … ┆ 30.0      ┆ 56.67     ┆ 38.33     ┆ 5.0      │\n",
       "│ Elementar ┆           ┆           ┆           ┆   ┆           ┆           ┆           ┆          │\n",
       "│ y         ┆           ┆           ┆           ┆   ┆           ┆           ┆           ┆          │\n",
       "│ …         ┆ …         ┆ …         ┆ …         ┆ … ┆ …         ┆ …         ┆ …         ┆ …        │\n",
       "│ Milk      ┆ 21.5      ┆ 9         ┆ 73        ┆ … ┆ 46.67     ┆ 73.33     ┆ 16.67     ┆ 10.0     │\n",
       "│ (Harvey)  ┆           ┆           ┆           ┆   ┆           ┆           ┆           ┆          │\n",
       "│ Civil     ┆           ┆           ┆           ┆   ┆           ┆           ┆           ┆          │\n",
       "│ Rights    ┆           ┆           ┆           ┆   ┆           ┆           ┆           ┆          │\n",
       "│ Ele…      ┆           ┆           ┆           ┆   ┆           ┆           ┆           ┆          │\n",
       "│ Everett   ┆ 15.2      ┆ 79        ┆ 1         ┆ … ┆ 4.4       ┆ 6.04      ┆ 53.85     ┆ 40.11    │\n",
       "│ Middle    ┆           ┆           ┆           ┆   ┆           ┆           ┆           ┆          │\n",
       "│ Lilientha ┆ 40.88     ┆ 31        ┆ 87        ┆ … ┆ 33.33     ┆ 62.79     ┆ 30.23     ┆ 6.98     │\n",
       "│ l         ┆           ┆           ┆           ┆   ┆           ┆           ┆           ┆          │\n",
       "│ (Claire)  ┆           ┆           ┆           ┆   ┆           ┆           ┆           ┆          │\n",
       "│ Elementar ┆           ┆           ┆           ┆   ┆           ┆           ┆           ┆          │\n",
       "│ y         ┆           ┆           ┆           ┆   ┆           ┆           ┆           ┆          │\n",
       "│ Marina    ┆ 35.98     ┆ 65        ┆ 17        ┆ … ┆ 31.58     ┆ 44.5      ┆ 45.45     ┆ 10.05    │\n",
       "│ Middle    ┆           ┆           ┆           ┆   ┆           ┆           ┆           ┆          │\n",
       "│ Sherman   ┆ 13.85     ┆ 15        ┆ 64        ┆ … ┆ 23.68     ┆ 42.11     ┆ 50.0      ┆ 7.89     │\n",
       "│ Elementar ┆           ┆           ┆           ┆   ┆           ┆           ┆           ┆          │\n",
       "│ y         ┆           ┆           ┆           ┆   ┆           ┆           ┆           ┆          │\n",
       "└───────────┴───────────┴───────────┴───────────┴───┴───────────┴───────────┴───────────┴──────────┘"
      ]
     },
     "execution_count": 4,
     "metadata": {},
     "output_type": "execute_result"
    }
   ],
   "source": [
    "# join all dataframes by school_name\n",
    "combined_data = (component_scores\n",
    "    .join(supervisors, on=\"school_name\", how=\"left\")\n",
    "    .join(demographics, on=\"school_name\", how=\"left\")\n",
    "    .join(facility, on=\"school_name\", how=\"left\")\n",
    "    .join(capacity, on=\"school_name\", how=\"left\")\n",
    "    .join(geo, on=\"school_name\", how=\"left\")\n",
    "    .join(caaspp_ela, on=\"school_name\", how=\"left\")\n",
    "    .join(caaspp_math, on=\"school_name\", how=\"left\")\n",
    "    .join(cast, on=\"school_name\", how=\"left\")\n",
    ")\n",
    "\n",
    "# normalize column names to lowercase and replace spaces with underscores\n",
    "combined_data = combined_data.select([\n",
    "    polars.col(col).alias(col.lower().replace(\" \", \"_\")) for col in combined_data.columns\n",
    "])\n",
    "\n",
    "combined_data"
   ]
  },
  {
   "cell_type": "markdown",
   "metadata": {},
   "source": [
    "## Modeled Data\n",
    "Process the modeled data a bit."
   ]
  },
  {
   "cell_type": "code",
   "execution_count": 5,
   "metadata": {},
   "outputs": [
    {
     "data": {
      "text/html": [
       "<div><style>\n",
       ".dataframe > thead > tr,\n",
       ".dataframe > tbody > tr {\n",
       "  text-align: right;\n",
       "  white-space: pre-wrap;\n",
       "}\n",
       "</style>\n",
       "<small>shape: (101, 73)</small><table border=\"1\" class=\"dataframe\"><thead><tr><th>school_name</th><th>composite_score</th><th>equity_rank</th><th>excellence_rank</th><th>efficiency_rank</th><th>enrollment</th><th>equity_score_p</th><th>excellence_score_p</th><th>efficiency_score_p</th><th>composite_score_p</th><th>district</th><th>supervisor</th><th>asian_students</th><th>african_american_students</th><th>not_reported_students</th><th>filipino_students</th><th>hispanic_or_latino_students</th><th>two_or_more_races_students</th><th>white_students</th><th>pacific_islander_students</th><th>american_indian_or_alaska_native_students</th><th>asian_percent</th><th>african_american_percent</th><th>not_reported_percent</th><th>filipino_percent</th><th>hispanic_or_latino_percent</th><th>two_or_more_races_percent</th><th>white_percent</th><th>pacific_islander_percent</th><th>american_indian_or_alaska_native_percent</th><th>replacement_costs_in_years_1—5</th><th>overall_campus_fci</th><th>building_fci</th><th>exterior_site_fci</th><th>electrical_system</th><th>equipment</th><th>exterior_enclosure</th><th>fire_protection</th><th>furnishings</th><th>hvac_system</th><th>student_enrollment</th><th>enrollment_capacity</th><th>bond_investments_since_2003</th><th>classrooms</th><th>lot_sq_ft</th><th>year_built</th><th>building_sq_ft</th><th>primary_program</th><th>latitude</th><th>longitude</th><th>ela_total_students_tested</th><th>ela_percentage_standard_exceeded</th><th>ela_percentage_standard_met</th><th>ela_percentage_standard_met_and_above</th><th>ela_percentage_standard_nearly_met</th><th>ela_percentage_standard_not_met</th><th>math_total_students_tested</th><th>math_percentage_standard_exceeded</th><th>math_percentage_standard_met</th><th>math_percentage_standard_met_and_above</th><th>math_percentage_standard_nearly_met</th><th>math_percentage_standard_not_met</th><th>science_total_students_tested</th><th>science_percentage_standard_exceeded</th><th>science_percentage_standard_met</th><th>science_percentage_standard_met_and_above</th><th>science_percentage_standard_nearly_met</th><th>science_percentage_standard_not_met</th><th>composite_rank</th><th>equal_weighted_composite_score</th><th>composite_score_change</th><th>equal_weighted_composite_rank</th><th>composite_rank_change</th></tr><tr><td>str</td><td>f64</td><td>i64</td><td>i64</td><td>i64</td><td>i64</td><td>f64</td><td>f64</td><td>f64</td><td>f64</td><td>i64</td><td>str</td><td>i64</td><td>i64</td><td>i64</td><td>i64</td><td>i64</td><td>i64</td><td>i64</td><td>i64</td><td>i64</td><td>f64</td><td>f64</td><td>f64</td><td>f64</td><td>f64</td><td>f64</td><td>f64</td><td>f64</td><td>f64</td><td>i64</td><td>f64</td><td>f64</td><td>f64</td><td>f64</td><td>f64</td><td>f64</td><td>f64</td><td>f64</td><td>f64</td><td>i64</td><td>i64</td><td>i64</td><td>i64</td><td>i64</td><td>i64</td><td>i64</td><td>str</td><td>f64</td><td>f64</td><td>i64</td><td>f64</td><td>f64</td><td>f64</td><td>f64</td><td>f64</td><td>i64</td><td>f64</td><td>f64</td><td>f64</td><td>f64</td><td>f64</td><td>i64</td><td>f64</td><td>f64</td><td>f64</td><td>f64</td><td>f64</td><td>i64</td><td>f64</td><td>f64</td><td>i64</td><td>i64</td></tr></thead><tbody><tr><td>&quot;Lowell High&quot;</td><td>90.97</td><td>60</td><td>88</td><td>100</td><td>2593</td><td>45.071663</td><td>70.531761</td><td>100.0</td><td>65.168772</td><td>7</td><td>&quot;Myrna Melgar&quot;</td><td>1185</td><td>66</td><td>68</td><td>145</td><td>450</td><td>210</td><td>409</td><td>4</td><td>3</td><td>46.653543</td><td>2.598425</td><td>2.677165</td><td>5.708661</td><td>17.716535</td><td>8.267717</td><td>16.102362</td><td>0.15748</td><td>0.11811</td><td>32726196</td><td>0.2</td><td>0.2</td><td>0.18</td><td>0.55</td><td>null</td><td>null</td><td>0.0</td><td>0.08</td><td>null</td><td>2652</td><td>2661</td><td>22578221</td><td>99</td><td>1189188</td><td>1970</td><td>245000</td><td>&quot;HS&quot;</td><td>37.731019</td><td>-122.483607</td><td>531</td><td>57.09</td><td>27.41</td><td>84.5</td><td>10.4</td><td>5.1</td><td>525</td><td>40.38</td><td>25.9</td><td>66.29</td><td>19.24</td><td>14.48</td><td>532</td><td>23.5</td><td>39.1</td><td>62.59</td><td>34.96</td><td>2.44</td><td>99</td><td>71.867808</td><td>19.102192</td><td>100</td><td>1</td></tr><tr><td>&quot;Roosevelt Middle&quot;</td><td>74.97</td><td>78</td><td>78</td><td>96</td><td>659</td><td>60.236857</td><td>58.989504</td><td>86.008981</td><td>66.36805</td><td>2</td><td>&quot;Catherine Stefani&quot;</td><td>318</td><td>26</td><td>33</td><td>11</td><td>70</td><td>67</td><td>129</td><td>2</td><td>1</td><td>48.401826</td><td>3.957382</td><td>5.022831</td><td>1.674277</td><td>10.65449</td><td>10.197869</td><td>19.634703</td><td>0.304414</td><td>0.152207</td><td>14388157</td><td>0.2</td><td>0.2</td><td>0.19</td><td>0.18</td><td>0.08</td><td>null</td><td>null</td><td>null</td><td>null</td><td>670</td><td>682</td><td>11051694</td><td>32</td><td>94469</td><td>1928</td><td>121000</td><td>&quot;MS&quot;</td><td>37.782287</td><td>-122.458868</td><td>625</td><td>36.48</td><td>37.92</td><td>74.4</td><td>15.84</td><td>9.76</td><td>621</td><td>38.23</td><td>23.39</td><td>61.61</td><td>21.61</td><td>16.77</td><td>217</td><td>21.66</td><td>32.72</td><td>54.38</td><td>41.01</td><td>4.61</td><td>98</td><td>68.411781</td><td>6.558219</td><td>99</td><td>1</td></tr><tr><td>&quot;Yu (Alice Fong) Elementary&quot;</td><td>66.85</td><td>69</td><td>98</td><td>78</td><td>595</td><td>52.182942</td><td>93.061355</td><td>58.989386</td><td>64.104156</td><td>4</td><td>&quot;Joel Engardio&quot;</td><td>352</td><td>33</td><td>42</td><td>18</td><td>29</td><td>83</td><td>29</td><td>null</td><td>3</td><td>59.762309</td><td>5.602716</td><td>7.13073</td><td>3.056027</td><td>4.923599</td><td>14.091681</td><td>4.923599</td><td>null</td><td>0.509338</td><td>6768445</td><td>0.21</td><td>0.23</td><td>0.02</td><td>0.41</td><td>0.81</td><td>0.02</td><td>0.0</td><td>0.67</td><td>null</td><td>586</td><td>594</td><td>4378810</td><td>24</td><td>78007</td><td>1995</td><td>42978</td><td>&quot;ES&quot;</td><td>37.759396</td><td>-122.469281</td><td>390</td><td>53.85</td><td>28.21</td><td>82.05</td><td>13.33</td><td>4.62</td><td>389</td><td>54.76</td><td>22.11</td><td>76.86</td><td>15.42</td><td>7.71</td><td>128</td><td>35.94</td><td>28.91</td><td>64.84</td><td>35.16</td><td>0.0</td><td>94</td><td>68.077895</td><td>-1.227895</td><td>98</td><td>4</td></tr><tr><td>&quot;Burton (Phillip and Sala) Acad…</td><td>69.96</td><td>97</td><td>60</td><td>85</td><td>1053</td><td>90.419241</td><td>43.824309</td><td>66.599007</td><td>72.81545</td><td>10</td><td>&quot;Shamann Walton&quot;</td><td>321</td><td>92</td><td>17</td><td>105</td><td>414</td><td>41</td><td>18</td><td>20</td><td>3</td><td>31.134821</td><td>8.923375</td><td>1.648885</td><td>10.184287</td><td>40.155189</td><td>3.976722</td><td>1.745878</td><td>1.939864</td><td>0.29098</td><td>30758948</td><td>0.19</td><td>0.18</td><td>0.3</td><td>0.35</td><td>0.08</td><td>0.08</td><td>0.8</td><td>0.11</td><td>null</td><td>1144</td><td>1228</td><td>16676468</td><td>70</td><td>774000</td><td>1961</td><td>230000</td><td>&quot;HS&quot;</td><td>37.720642</td><td>-122.40515</td><td>226</td><td>30.8</td><td>32.59</td><td>63.39</td><td>19.64</td><td>16.96</td><td>219</td><td>12.84</td><td>17.43</td><td>30.28</td><td>19.72</td><td>50.0</td><td>225</td><td>13.78</td><td>30.22</td><td>44.0</td><td>44.89</td><td>11.11</td><td>96</td><td>66.947519</td><td>3.012481</td><td>97</td><td>1</td></tr><tr><td>&quot;Wallenberg (Raoul) Traditional…</td><td>68.34</td><td>75</td><td>80</td><td>92</td><td>528</td><td>57.397701</td><td>60.999819</td><td>76.927007</td><td>63.180557</td><td>5</td><td>&quot;Dean Preston&quot;</td><td>203</td><td>52</td><td>13</td><td>19</td><td>128</td><td>43</td><td>89</td><td>3</td><td>1</td><td>36.842105</td><td>9.437387</td><td>2.359347</td><td>3.448276</td><td>23.23049</td><td>7.803993</td><td>16.15245</td><td>0.544465</td><td>0.181488</td><td>9577470</td><td>0.22</td><td>0.24</td><td>0.01</td><td>0.31</td><td>0.24</td><td>0.24</td><td>0.17</td><td>0.17</td><td>null</td><td>636</td><td>686</td><td>15139396</td><td>26</td><td>144184</td><td>1951</td><td>62840</td><td>&quot;HS&quot;</td><td>37.780136</td><td>-122.445816</td><td>110</td><td>28.44</td><td>21.1</td><td>49.54</td><td>20.18</td><td>30.28</td><td>107</td><td>22.43</td><td>19.63</td><td>42.06</td><td>14.02</td><td>43.93</td><td>117</td><td>11.11</td><td>25.64</td><td>36.75</td><td>41.03</td><td>22.22</td><td>95</td><td>65.108176</td><td>3.231824</td><td>96</td><td>1</td></tr><tr><td>&hellip;</td><td>&hellip;</td><td>&hellip;</td><td>&hellip;</td><td>&hellip;</td><td>&hellip;</td><td>&hellip;</td><td>&hellip;</td><td>&hellip;</td><td>&hellip;</td><td>&hellip;</td><td>&hellip;</td><td>&hellip;</td><td>&hellip;</td><td>&hellip;</td><td>&hellip;</td><td>&hellip;</td><td>&hellip;</td><td>&hellip;</td><td>&hellip;</td><td>&hellip;</td><td>&hellip;</td><td>&hellip;</td><td>&hellip;</td><td>&hellip;</td><td>&hellip;</td><td>&hellip;</td><td>&hellip;</td><td>&hellip;</td><td>&hellip;</td><td>&hellip;</td><td>&hellip;</td><td>&hellip;</td><td>&hellip;</td><td>&hellip;</td><td>&hellip;</td><td>&hellip;</td><td>&hellip;</td><td>&hellip;</td><td>&hellip;</td><td>&hellip;</td><td>&hellip;</td><td>&hellip;</td><td>&hellip;</td><td>&hellip;</td><td>&hellip;</td><td>&hellip;</td><td>&hellip;</td><td>&hellip;</td><td>&hellip;</td><td>&hellip;</td><td>&hellip;</td><td>&hellip;</td><td>&hellip;</td><td>&hellip;</td><td>&hellip;</td><td>&hellip;</td><td>&hellip;</td><td>&hellip;</td><td>&hellip;</td><td>&hellip;</td><td>&hellip;</td><td>&hellip;</td><td>&hellip;</td><td>&hellip;</td><td>&hellip;</td><td>&hellip;</td><td>&hellip;</td><td>&hellip;</td><td>&hellip;</td><td>&hellip;</td><td>&hellip;</td><td>&hellip;</td></tr><tr><td>&quot;Sherman Elementary&quot;</td><td>13.85</td><td>15</td><td>64</td><td>14</td><td>293</td><td>7.400342</td><td>46.909982</td><td>4.901997</td><td>16.653166</td><td>2</td><td>&quot;Catherine Stefani&quot;</td><td>39</td><td>26</td><td>27</td><td>9</td><td>53</td><td>25</td><td>100</td><td>2</td><td>1</td><td>13.829787</td><td>9.219858</td><td>9.574468</td><td>3.191489</td><td>18.794326</td><td>8.865248</td><td>35.460993</td><td>0.70922</td><td>0.35461</td><td>11291026</td><td>0.3</td><td>0.35</td><td>0.03</td><td>0.74</td><td>null</td><td>0.06</td><td>null</td><td>null</td><td>0.0</td><td>285</td><td>322</td><td>1171140</td><td>26</td><td>75625</td><td>1928</td><td>56200</td><td>&quot;ES&quot;</td><td>37.798182</td><td>-122.426452</td><td>102</td><td>31.37</td><td>19.61</td><td>50.98</td><td>21.57</td><td>27.45</td><td>108</td><td>25.0</td><td>22.22</td><td>47.22</td><td>30.56</td><td>22.22</td><td>38</td><td>18.42</td><td>23.68</td><td>42.11</td><td>50.0</td><td>7.89</td><td>3</td><td>19.73744</td><td>-5.88744</td><td>4</td><td>1</td></tr><tr><td>&quot;Parker (Jean) Elementary&quot;</td><td>13.88</td><td>24</td><td>56</td><td>3</td><td>123</td><td>16.9235</td><td>40.81567</td><td>0.0</td><td>18.665668</td><td>3</td><td>&quot;Aaron Peskin&quot;</td><td>80</td><td>12</td><td>4</td><td>1</td><td>14</td><td>7</td><td>6</td><td>null</td><td>1</td><td>64.0</td><td>9.6</td><td>3.2</td><td>0.8</td><td>11.2</td><td>5.6</td><td>4.8</td><td>null</td><td>0.8</td><td>5957958</td><td>0.26</td><td>0.27</td><td>null</td><td>0.72</td><td>0.42</td><td>0.42</td><td>0.01</td><td>0.0</td><td>0.0</td><td>168</td><td>231</td><td>300000</td><td>16</td><td>26888</td><td>1996</td><td>46000</td><td>&quot;ES&quot;</td><td>37.797388</td><td>-122.411294</td><td>53</td><td>28.3</td><td>30.19</td><td>58.49</td><td>15.09</td><td>26.42</td><td>54</td><td>29.63</td><td>27.78</td><td>57.41</td><td>20.37</td><td>22.22</td><td>17</td><td>5.88</td><td>41.18</td><td>47.06</td><td>29.41</td><td>23.53</td><td>4</td><td>19.24639</td><td>-5.36639</td><td>3</td><td>-1</td></tr><tr><td>&quot;Parks (Rosa) Elementary&quot;</td><td>19.84</td><td>68</td><td>13</td><td>2</td><td>328</td><td>51.358968</td><td>3.593982</td><td>0.0</td><td>26.577979</td><td>5</td><td>&quot;Dean Preston&quot;</td><td>51</td><td>67</td><td>20</td><td>11</td><td>90</td><td>68</td><td>33</td><td>4</td><td>null</td><td>14.825581</td><td>19.476744</td><td>5.813953</td><td>3.197674</td><td>26.162791</td><td>19.767442</td><td>9.593023</td><td>1.162791</td><td>null</td><td>20315195</td><td>0.49</td><td>0.5</td><td>0.23</td><td>0.77</td><td>0.16</td><td>0.44</td><td>null</td><td>1.25</td><td>1.0</td><td>380</td><td>460</td><td>4158677</td><td>30</td><td>133884</td><td>1924</td><td>66900</td><td>&quot;ES&quot;</td><td>37.783532</td><td>-122.430297</td><td>162</td><td>14.81</td><td>16.67</td><td>31.48</td><td>21.6</td><td>46.91</td><td>165</td><td>8.48</td><td>17.58</td><td>26.06</td><td>18.79</td><td>55.15</td><td>55</td><td>7.27</td><td>14.55</td><td>21.82</td><td>43.64</td><td>34.55</td><td>15</td><td>18.31765</td><td>1.52235</td><td>2</td><td>-13</td></tr><tr><td>&quot;Visitacion Valley Elementary&quot;</td><td>23.23</td><td>58</td><td>16</td><td>13</td><td>237</td><td>43.559875</td><td>7.35341</td><td>3.593864</td><td>24.516756</td><td>10</td><td>&quot;Shamann Walton&quot;</td><td>112</td><td>23</td><td>6</td><td>10</td><td>73</td><td>14</td><td>6</td><td>19</td><td>null</td><td>42.585551</td><td>8.745247</td><td>2.281369</td><td>3.802281</td><td>27.756654</td><td>5.323194</td><td>2.281369</td><td>7.224335</td><td>null</td><td>3311584</td><td>0.08</td><td>0.11</td><td>0.0</td><td>0.0</td><td>null</td><td>0.01</td><td>0.0</td><td>0.0</td><td>null</td><td>297</td><td>343</td><td>11880310</td><td>22</td><td>84552</td><td>1937</td><td>51400</td><td>&quot;ES&quot;</td><td>37.712688</td><td>-122.41035</td><td>118</td><td>17.95</td><td>19.66</td><td>37.61</td><td>19.66</td><td>42.74</td><td>117</td><td>11.11</td><td>18.8</td><td>29.91</td><td>24.79</td><td>45.3</td><td>46</td><td>8.7</td><td>17.39</td><td>26.09</td><td>43.48</td><td>30.43</td><td>19</td><td>18.16905</td><td>5.06095</td><td>1</td><td>-18</td></tr><tr><td>&quot;Hillcrest Elementary&quot;</td><td>16.0</td><td>43</td><td>8</td><td>18</td><td>319</td><td>32.436985</td><td>0.0</td><td>9.624674</td><td>18.624661</td><td>10</td><td>&quot;Shamann Walton&quot;</td><td>42</td><td>32</td><td>10</td><td>19</td><td>211</td><td>8</td><td>2</td><td>4</td><td>null</td><td>12.804878</td><td>9.756098</td><td>3.04878</td><td>5.792683</td><td>64.329268</td><td>2.439024</td><td>0.609756</td><td>1.219512</td><td>null</td><td>7134902</td><td>0.2</td><td>0.21</td><td>0.16</td><td>0.14</td><td>null</td><td>null</td><td>null</td><td>0.19</td><td>null</td><td>372</td><td>361</td><td>38101517</td><td>27</td><td>106154</td><td>1956</td><td>55213</td><td>&quot;ES&quot;</td><td>37.728953</td><td>-122.418221</td><td>147</td><td>4.08</td><td>8.84</td><td>12.93</td><td>19.73</td><td>67.35</td><td>149</td><td>2.68</td><td>6.04</td><td>8.72</td><td>26.85</td><td>64.43</td><td>49</td><td>4.08</td><td>8.16</td><td>12.24</td><td>55.1</td><td>32.65</td><td>11</td><td>14.020553</td><td>1.979447</td><td>0</td><td>-11</td></tr></tbody></table></div>"
      ],
      "text/plain": [
       "shape: (101, 73)\n",
       "┌───────────┬───────────┬───────────┬───────────┬───┬───────────┬───────────┬───────────┬──────────┐\n",
       "│ school_na ┆ composite ┆ equity_ra ┆ excellenc ┆ … ┆ equal_wei ┆ composite ┆ equal_wei ┆ composit │\n",
       "│ me        ┆ _score    ┆ nk        ┆ e_rank    ┆   ┆ ghted_com ┆ _score_ch ┆ ghted_com ┆ e_rank_c │\n",
       "│ ---       ┆ ---       ┆ ---       ┆ ---       ┆   ┆ posite_sc ┆ ange      ┆ posite_ra ┆ hange    │\n",
       "│ str       ┆ f64       ┆ i64       ┆ i64       ┆   ┆ ore       ┆ ---       ┆ nk        ┆ ---      │\n",
       "│           ┆           ┆           ┆           ┆   ┆ ---       ┆ f64       ┆ ---       ┆ i64      │\n",
       "│           ┆           ┆           ┆           ┆   ┆ f64       ┆           ┆ i64       ┆          │\n",
       "╞═══════════╪═══════════╪═══════════╪═══════════╪═══╪═══════════╪═══════════╪═══════════╪══════════╡\n",
       "│ Lowell    ┆ 90.97     ┆ 60        ┆ 88        ┆ … ┆ 71.867808 ┆ 19.102192 ┆ 100       ┆ 1        │\n",
       "│ High      ┆           ┆           ┆           ┆   ┆           ┆           ┆           ┆          │\n",
       "│ Roosevelt ┆ 74.97     ┆ 78        ┆ 78        ┆ … ┆ 68.411781 ┆ 6.558219  ┆ 99        ┆ 1        │\n",
       "│ Middle    ┆           ┆           ┆           ┆   ┆           ┆           ┆           ┆          │\n",
       "│ Yu (Alice ┆ 66.85     ┆ 69        ┆ 98        ┆ … ┆ 68.077895 ┆ -1.227895 ┆ 98        ┆ 4        │\n",
       "│ Fong) Ele ┆           ┆           ┆           ┆   ┆           ┆           ┆           ┆          │\n",
       "│ mentary   ┆           ┆           ┆           ┆   ┆           ┆           ┆           ┆          │\n",
       "│ Burton    ┆ 69.96     ┆ 97        ┆ 60        ┆ … ┆ 66.947519 ┆ 3.012481  ┆ 97        ┆ 1        │\n",
       "│ (Phillip  ┆           ┆           ┆           ┆   ┆           ┆           ┆           ┆          │\n",
       "│ and Sala) ┆           ┆           ┆           ┆   ┆           ┆           ┆           ┆          │\n",
       "│ Acad…     ┆           ┆           ┆           ┆   ┆           ┆           ┆           ┆          │\n",
       "│ Wallenber ┆ 68.34     ┆ 75        ┆ 80        ┆ … ┆ 65.108176 ┆ 3.231824  ┆ 96        ┆ 1        │\n",
       "│ g (Raoul) ┆           ┆           ┆           ┆   ┆           ┆           ┆           ┆          │\n",
       "│ Tradition ┆           ┆           ┆           ┆   ┆           ┆           ┆           ┆          │\n",
       "│ al…       ┆           ┆           ┆           ┆   ┆           ┆           ┆           ┆          │\n",
       "│ …         ┆ …         ┆ …         ┆ …         ┆ … ┆ …         ┆ …         ┆ …         ┆ …        │\n",
       "│ Sherman   ┆ 13.85     ┆ 15        ┆ 64        ┆ … ┆ 19.73744  ┆ -5.88744  ┆ 4         ┆ 1        │\n",
       "│ Elementar ┆           ┆           ┆           ┆   ┆           ┆           ┆           ┆          │\n",
       "│ y         ┆           ┆           ┆           ┆   ┆           ┆           ┆           ┆          │\n",
       "│ Parker    ┆ 13.88     ┆ 24        ┆ 56        ┆ … ┆ 19.24639  ┆ -5.36639  ┆ 3         ┆ -1       │\n",
       "│ (Jean)    ┆           ┆           ┆           ┆   ┆           ┆           ┆           ┆          │\n",
       "│ Elementar ┆           ┆           ┆           ┆   ┆           ┆           ┆           ┆          │\n",
       "│ y         ┆           ┆           ┆           ┆   ┆           ┆           ┆           ┆          │\n",
       "│ Parks     ┆ 19.84     ┆ 68        ┆ 13        ┆ … ┆ 18.31765  ┆ 1.52235   ┆ 2         ┆ -13      │\n",
       "│ (Rosa)    ┆           ┆           ┆           ┆   ┆           ┆           ┆           ┆          │\n",
       "│ Elementar ┆           ┆           ┆           ┆   ┆           ┆           ┆           ┆          │\n",
       "│ y         ┆           ┆           ┆           ┆   ┆           ┆           ┆           ┆          │\n",
       "│ Visitacio ┆ 23.23     ┆ 58        ┆ 16        ┆ … ┆ 18.16905  ┆ 5.06095   ┆ 1         ┆ -18      │\n",
       "│ n Valley  ┆           ┆           ┆           ┆   ┆           ┆           ┆           ┆          │\n",
       "│ Elementar ┆           ┆           ┆           ┆   ┆           ┆           ┆           ┆          │\n",
       "│ y         ┆           ┆           ┆           ┆   ┆           ┆           ┆           ┆          │\n",
       "│ Hillcrest ┆ 16.0      ┆ 43        ┆ 8         ┆ … ┆ 14.020553 ┆ 1.979447  ┆ 0         ┆ -11      │\n",
       "│ Elementar ┆           ┆           ┆           ┆   ┆           ┆           ┆           ┆          │\n",
       "│ y         ┆           ┆           ┆           ┆   ┆           ┆           ┆           ┆          │\n",
       "└───────────┴───────────┴───────────┴───────────┴───┴───────────┴───────────┴───────────┴──────────┘"
      ]
     },
     "execution_count": 5,
     "metadata": {},
     "output_type": "execute_result"
    }
   ],
   "source": [
    "modeled_data = combined_data.sort(\"composite_score\")\\\n",
    "    .with_columns(polars.arange(0, combined_data.height, eager=True).alias(\"composite_rank\"))\n",
    "\n",
    "# calc equal_weighted_composite_score by averaging the equity, excellence, and access scores\n",
    "modeled_data = modeled_data\\\n",
    "    .with_columns(\n",
    "        ((polars.col(\"equity_score_p\") + polars.col(\"excellence_score_p\") + polars.col(\"efficiency_score_p\")) / 3.0)\n",
    "            .alias(\"equal_weighted_composite_score\")\n",
    "    )\\\n",
    "    .with_columns(\n",
    "        (polars.col(\"composite_score\") - polars.col(\"equal_weighted_composite_score\")).alias(\"composite_score_change\")\n",
    "    )\n",
    "\n",
    "# sort by equity_rank asc\n",
    "modeled_data = modeled_data.sort(\"equal_weighted_composite_score\")\\\n",
    "    .with_columns(polars.arange(0, modeled_data.height, eager=True).alias(\"equal_weighted_composite_rank\"))\\\n",
    "    .sort(\"equal_weighted_composite_rank\", descending=True)\n",
    "\n",
    "# calculate the composite_rank_change by taking 101 - row_number() - composite_rank\n",
    "modeled_data = modeled_data.with_columns(\n",
    "    (polars.col(\"equal_weighted_composite_rank\") - polars.col(\"composite_rank\")).alias(\"composite_rank_change\")\n",
    ")\n",
    "\n",
    "modeled_data"
   ]
  },
  {
   "cell_type": "code",
   "execution_count": 6,
   "metadata": {},
   "outputs": [],
   "source": [
    "modeled_data.write_csv(workspace_path.joinpath('data/processed/component_scores_augmented.csv'))"
   ]
  },
  {
   "cell_type": "code",
   "execution_count": null,
   "metadata": {},
   "outputs": [],
   "source": []
  }
 ],
 "metadata": {
  "kernelspec": {
   "display_name": "Python 3 (ipykernel)",
   "language": "python",
   "name": "python3"
  },
  "language_info": {
   "codemirror_mode": {
    "name": "ipython",
    "version": 3
   },
   "file_extension": ".py",
   "mimetype": "text/x-python",
   "name": "python",
   "nbconvert_exporter": "python",
   "pygments_lexer": "ipython3",
   "version": "3.12.6"
  }
 },
 "nbformat": 4,
 "nbformat_minor": 2
}
