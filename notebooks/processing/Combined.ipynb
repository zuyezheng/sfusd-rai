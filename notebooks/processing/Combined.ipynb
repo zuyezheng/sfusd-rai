{
 "cells": [
  {
   "cell_type": "markdown",
   "metadata": {},
   "source": [
    "# Combine Data by Schools"
   ]
  },
  {
   "cell_type": "code",
   "execution_count": 7,
   "metadata": {},
   "outputs": [],
   "source": [
    "%run notebooks/Setup.ipynb\n",
    "\n",
    "import polars as polars"
   ]
  },
  {
   "cell_type": "markdown",
   "metadata": {},
   "source": [
    "## Augment Composite Scores with Demographics"
   ]
  },
  {
   "cell_type": "code",
   "execution_count": 8,
   "metadata": {},
   "outputs": [],
   "source": [
    "component_scores = polars.read_csv(workspace_path.joinpath('data/processed/component_scores.csv'))\n",
    "demographics = polars.read_csv(workspace_path.joinpath('data/processed/race_ethnicity_demographics.csv'))"
   ]
  },
  {
   "cell_type": "code",
   "execution_count": 9,
   "metadata": {},
   "outputs": [],
   "source": [
    "# Join composite scores with demographics by school\n",
    "combined_data = component_scores.join(\n",
    "    demographics,\n",
    "    left_on=\"school_name\",\n",
    "    right_on=\"SchoolName\",\n",
    "    how=\"inner\"\n",
    ")\n",
    "\n",
    "combined_data.write_csv(workspace_path.joinpath('data/processed/component_scores_augmented.csv'))\n"
   ]
  }
 ],
 "metadata": {
  "kernelspec": {
   "display_name": "Python 3 (ipykernel)",
   "language": "python",
   "name": "python3"
  },
  "language_info": {
   "codemirror_mode": {
    "name": "ipython",
    "version": 3
   },
   "file_extension": ".py",
   "mimetype": "text/x-python",
   "name": "python",
   "nbconvert_exporter": "python",
   "pygments_lexer": "ipython3",
   "version": "3.12.6"
  }
 },
 "nbformat": 4,
 "nbformat_minor": 2
}
