{
 "cells": [
  {
   "cell_type": "markdown",
   "metadata": {},
   "source": [
    "# Combine Data by Schools"
   ]
  },
  {
   "cell_type": "code",
   "execution_count": 2,
   "metadata": {},
   "outputs": [],
   "source": [
    "%run notebooks/Setup.ipynb\n",
    "\n",
    "import polars as polars"
   ]
  },
  {
   "cell_type": "markdown",
   "metadata": {},
   "source": [
    "## Augment Composite Scores with Demographics"
   ]
  },
  {
   "cell_type": "code",
   "execution_count": 6,
   "metadata": {},
   "outputs": [],
   "source": [
    "geo = polars.read_csv(workspace_path.joinpath('data/processed/composite_scores_raw.csv')).select(['school_name', 'latitude', 'longitude'])\n",
    "component_scores = polars.read_csv(workspace_path.joinpath('data/processed/component_scores.csv'))\n",
    "supervisors = polars.read_csv(workspace_path.joinpath('data/raw/supervisors.csv'))\n",
    "demographics = polars.read_csv(workspace_path.joinpath('data/processed/race_ethnicity_demographics.csv'))\n",
    "facility = polars.read_csv(workspace_path.joinpath('data/processed/facilities.csv'))\n",
    "capacity = polars.read_csv(workspace_path.joinpath('data/processed/capacity.csv'))\n",
    "caaspp_ela = polars.read_csv(workspace_path.joinpath('data/processed/caaspp_ela.csv'))\n",
    "caaspp_math = polars.read_csv(workspace_path.joinpath('data/processed/caaspp_math.csv'))\n",
    "cast = polars.read_csv(workspace_path.joinpath('data/processed/cast.csv'))"
   ]
  },
  {
   "cell_type": "code",
   "execution_count": 19,
   "metadata": {},
   "outputs": [
    {
     "data": {
      "text/html": [
       "<div><style>\n",
       ".dataframe > thead > tr,\n",
       ".dataframe > tbody > tr {\n",
       "  text-align: right;\n",
       "  white-space: pre-wrap;\n",
       "}\n",
       "</style>\n",
       "<small>shape: (101, 68)</small><table border=\"1\" class=\"dataframe\"><thead><tr><th>school_name</th><th>composite_score</th><th>equity_rank</th><th>excellence_rank</th><th>efficiency_rank</th><th>enrollment</th><th>equity_score_p</th><th>excellence_score_p</th><th>efficiency_score_p</th><th>composite_score_p</th><th>district</th><th>supervisor</th><th>asian_students</th><th>african_american_students</th><th>not_reported_students</th><th>filipino_students</th><th>hispanic_or_latino_students</th><th>two_or_more_races_students</th><th>white_students</th><th>pacific_islander_students</th><th>american_indian_or_alaska_native_students</th><th>asian_percent</th><th>african_american_percent</th><th>not_reported_percent</th><th>filipino_percent</th><th>hispanic_or_latino_percent</th><th>two_or_more_races_percent</th><th>white_percent</th><th>pacific_islander_percent</th><th>american_indian_or_alaska_native_percent</th><th>replacement_costs_in_years_1—5</th><th>overall_campus_fci</th><th>building_fci</th><th>exterior_site_fci</th><th>electrical_system</th><th>equipment</th><th>exterior_enclosure</th><th>fire_protection</th><th>furnishings</th><th>hvac_system</th><th>student_enrollment</th><th>enrollment_capacity</th><th>bond_investments_since_2003</th><th>classrooms</th><th>lot_sq_ft</th><th>year_built</th><th>building_sq_ft</th><th>primary_program</th><th>latitude</th><th>longitude</th><th>ela_total_students_tested</th><th>ela_percentage_standard_exceeded</th><th>ela_percentage_standard_met</th><th>ela_percentage_standard_met_and_above</th><th>ela_percentage_standard_nearly_met</th><th>ela_percentage_standard_not_met</th><th>math_total_students_tested</th><th>math_percentage_standard_exceeded</th><th>math_percentage_standard_met</th><th>math_percentage_standard_met_and_above</th><th>math_percentage_standard_nearly_met</th><th>math_percentage_standard_not_met</th><th>science_total_students_tested</th><th>science_percentage_standard_exceeded</th><th>science_percentage_standard_met</th><th>science_percentage_standard_met_and_above</th><th>science_percentage_standard_nearly_met</th><th>science_percentage_standard_not_met</th></tr><tr><td>str</td><td>f64</td><td>i64</td><td>i64</td><td>i64</td><td>i64</td><td>f64</td><td>f64</td><td>f64</td><td>f64</td><td>i64</td><td>str</td><td>i64</td><td>i64</td><td>i64</td><td>i64</td><td>i64</td><td>i64</td><td>i64</td><td>i64</td><td>i64</td><td>f64</td><td>f64</td><td>f64</td><td>f64</td><td>f64</td><td>f64</td><td>f64</td><td>f64</td><td>f64</td><td>i64</td><td>f64</td><td>f64</td><td>f64</td><td>f64</td><td>f64</td><td>f64</td><td>f64</td><td>f64</td><td>f64</td><td>i64</td><td>i64</td><td>i64</td><td>i64</td><td>i64</td><td>i64</td><td>i64</td><td>str</td><td>f64</td><td>f64</td><td>i64</td><td>f64</td><td>f64</td><td>f64</td><td>f64</td><td>f64</td><td>i64</td><td>f64</td><td>f64</td><td>f64</td><td>f64</td><td>f64</td><td>i64</td><td>f64</td><td>f64</td><td>f64</td><td>f64</td><td>f64</td></tr></thead><tbody><tr><td>&quot;Key (Francis Scott) Elementary&quot;</td><td>12.29</td><td>0</td><td>84</td><td>68</td><td>552</td><td>0.0</td><td>65.398704</td><td>50.111497</td><td>28.87755</td><td>4</td><td>&quot;Joel Engardio&quot;</td><td>238</td><td>2</td><td>21</td><td>23</td><td>56</td><td>60</td><td>162</td><td>null</td><td>null</td><td>42.348754</td><td>0.355872</td><td>3.736655</td><td>4.092527</td><td>9.964413</td><td>10.676157</td><td>28.825623</td><td>null</td><td>null</td><td>9592457</td><td>0.24</td><td>0.24</td><td>0.27</td><td>0.71</td><td>null</td><td>0.04</td><td>null</td><td>null</td><td>null</td><td>543</td><td>582</td><td>11051316</td><td>29</td><td>90000</td><td>1935</td><td>54321</td><td>&quot;ES&quot;</td><td>37.758111</td><td>-122.502468</td><td>269</td><td>45.72</td><td>26.77</td><td>72.49</td><td>14.87</td><td>12.64</td><td>271</td><td>39.11</td><td>32.1</td><td>71.22</td><td>18.82</td><td>9.96</td><td>94</td><td>22.34</td><td>34.04</td><td>56.38</td><td>38.3</td><td>5.32</td></tr><tr><td>&quot;McCoppin (Frank) Elementary&quot;</td><td>19.41</td><td>1</td><td>86</td><td>90</td><td>260</td><td>0.0</td><td>67.849999</td><td>73.518349</td><td>35.342087</td><td>1</td><td>&quot;Connie Chan&quot;</td><td>71</td><td>6</td><td>15</td><td>8</td><td>46</td><td>36</td><td>58</td><td>null</td><td>2</td><td>29.338843</td><td>2.479339</td><td>6.198347</td><td>3.305785</td><td>19.008264</td><td>14.876033</td><td>23.966942</td><td>null</td><td>0.826446</td><td>2052859</td><td>0.11</td><td>0.1</td><td>0.15</td><td>0.21</td><td>0.69</td><td>0.04</td><td>0.0</td><td>0.2</td><td>null</td><td>198</td><td>243</td><td>11614738</td><td>17</td><td>42000</td><td>1970</td><td>32799</td><td>&quot;ES&quot;</td><td>37.776281</td><td>-122.464016</td><td>103</td><td>30.1</td><td>25.24</td><td>55.34</td><td>21.36</td><td>23.3</td><td>104</td><td>38.46</td><td>19.23</td><td>57.69</td><td>23.08</td><td>19.23</td><td>31</td><td>22.58</td><td>25.81</td><td>48.39</td><td>41.94</td><td>9.68</td></tr><tr><td>&quot;Peabody (George) Elementary&quot;</td><td>15.6</td><td>2</td><td>100</td><td>30</td><td>268</td><td>0.0</td><td>100.0</td><td>20.981299</td><td>30.245325</td><td>1</td><td>&quot;Connie Chan&quot;</td><td>67</td><td>3</td><td>21</td><td>11</td><td>27</td><td>39</td><td>101</td><td>1</td><td>null</td><td>24.814815</td><td>1.111111</td><td>7.777778</td><td>4.074074</td><td>10.0</td><td>14.444444</td><td>37.407407</td><td>0.37037</td><td>null</td><td>1583583</td><td>0.11</td><td>0.1</td><td>0.22</td><td>0.25</td><td>0.48</td><td>0.02</td><td>0.0</td><td>null</td><td>null</td><td>272</td><td>275</td><td>7761238</td><td>13</td><td>36000</td><td>1970</td><td>21805</td><td>&quot;ES&quot;</td><td>37.783846</td><td>-122.464561</td><td>128</td><td>57.03</td><td>23.44</td><td>80.47</td><td>12.5</td><td>7.03</td><td>128</td><td>50.0</td><td>28.13</td><td>78.13</td><td>14.84</td><td>7.03</td><td>42</td><td>45.24</td><td>38.1</td><td>83.33</td><td>14.29</td><td>2.38</td></tr><tr><td>&quot;Sunset Elementary&quot;</td><td>14.35</td><td>3</td><td>91</td><td>32</td><td>404</td><td>0.0</td><td>75.160213</td><td>22.640381</td><td>24.450149</td><td>4</td><td>&quot;Joel Engardio&quot;</td><td>222</td><td>3</td><td>26</td><td>7</td><td>26</td><td>48</td><td>71</td><td>null</td><td>null</td><td>55.086849</td><td>0.744417</td><td>6.451613</td><td>1.736973</td><td>6.451613</td><td>11.91067</td><td>17.617866</td><td>null</td><td>null</td><td>11206738</td><td>0.33</td><td>0.28</td><td>0.48</td><td>0.66</td><td>null</td><td>0.04</td><td>0.18</td><td>1.15</td><td>1.15</td><td>401</td><td>406</td><td>5414329</td><td>16</td><td>204592</td><td>1956</td><td>37115</td><td>&quot;ES&quot;</td><td>37.750881</td><td>-122.49981</td><td>191</td><td>65.45</td><td>21.47</td><td>86.91</td><td>8.38</td><td>4.71</td><td>191</td><td>63.35</td><td>26.18</td><td>89.53</td><td>8.9</td><td>1.57</td><td>63</td><td>38.1</td><td>42.86</td><td>80.95</td><td>19.05</td><td>0.0</td></tr><tr><td>&quot;Argonne Elementary&quot;</td><td>11.46</td><td>4</td><td>75</td><td>40</td><td>389</td><td>0.0</td><td>56.150348</td><td>28.927687</td><td>21.269509</td><td>1</td><td>&quot;Connie Chan&quot;</td><td>118</td><td>12</td><td>33</td><td>13</td><td>43</td><td>39</td><td>108</td><td>2</td><td>null</td><td>32.065217</td><td>3.26087</td><td>8.967391</td><td>3.532609</td><td>11.684783</td><td>10.597826</td><td>29.347826</td><td>0.543478</td><td>null</td><td>9395256</td><td>0.325</td><td>0.315</td><td>0.3</td><td>0.69</td><td>0.2</td><td>0.175</td><td>0.0</td><td>0.27</td><td>0.0</td><td>389</td><td>398</td><td>300000</td><td>20</td><td>68520</td><td>1997</td><td>52000</td><td>&quot;ES&quot;</td><td>37.775159</td><td>-122.476784</td><td>170</td><td>39.05</td><td>21.89</td><td>60.95</td><td>21.89</td><td>17.16</td><td>169</td><td>31.95</td><td>31.36</td><td>63.31</td><td>23.67</td><td>13.02</td><td>60</td><td>26.67</td><td>30.0</td><td>56.67</td><td>38.33</td><td>5.0</td></tr><tr><td>&hellip;</td><td>&hellip;</td><td>&hellip;</td><td>&hellip;</td><td>&hellip;</td><td>&hellip;</td><td>&hellip;</td><td>&hellip;</td><td>&hellip;</td><td>&hellip;</td><td>&hellip;</td><td>&hellip;</td><td>&hellip;</td><td>&hellip;</td><td>&hellip;</td><td>&hellip;</td><td>&hellip;</td><td>&hellip;</td><td>&hellip;</td><td>&hellip;</td><td>&hellip;</td><td>&hellip;</td><td>&hellip;</td><td>&hellip;</td><td>&hellip;</td><td>&hellip;</td><td>&hellip;</td><td>&hellip;</td><td>&hellip;</td><td>&hellip;</td><td>&hellip;</td><td>&hellip;</td><td>&hellip;</td><td>&hellip;</td><td>&hellip;</td><td>&hellip;</td><td>&hellip;</td><td>&hellip;</td><td>&hellip;</td><td>&hellip;</td><td>&hellip;</td><td>&hellip;</td><td>&hellip;</td><td>&hellip;</td><td>&hellip;</td><td>&hellip;</td><td>&hellip;</td><td>&hellip;</td><td>&hellip;</td><td>&hellip;</td><td>&hellip;</td><td>&hellip;</td><td>&hellip;</td><td>&hellip;</td><td>&hellip;</td><td>&hellip;</td><td>&hellip;</td><td>&hellip;</td><td>&hellip;</td><td>&hellip;</td><td>&hellip;</td><td>&hellip;</td><td>&hellip;</td><td>&hellip;</td><td>&hellip;</td><td>&hellip;</td><td>&hellip;</td><td>&hellip;</td></tr><tr><td>&quot;Academy (The)- SF @McAteer&quot;</td><td>53.99</td><td>96</td><td>25</td><td>57</td><td>126</td><td>87.256452</td><td>16.601765</td><td>41.562364</td><td>58.169258</td><td>7</td><td>&quot;Myrna Melgar&quot;</td><td>32</td><td>36</td><td>6</td><td>15</td><td>124</td><td>18</td><td>32</td><td>2</td><td>null</td><td>12.075472</td><td>13.584906</td><td>2.264151</td><td>5.660377</td><td>46.792453</td><td>6.792453</td><td>12.075472</td><td>0.754717</td><td>null</td><td>null</td><td>null</td><td>null</td><td>null</td><td>null</td><td>null</td><td>null</td><td>null</td><td>null</td><td>null</td><td>null</td><td>null</td><td>null</td><td>null</td><td>null</td><td>null</td><td>null</td><td>null</td><td>37.745563</td><td>-122.451186</td><td>60</td><td>20.0</td><td>36.67</td><td>56.67</td><td>26.67</td><td>16.67</td><td>57</td><td>0.0</td><td>19.3</td><td>19.3</td><td>22.81</td><td>57.89</td><td>59</td><td>5.17</td><td>32.76</td><td>37.93</td><td>51.72</td><td>10.34</td></tr><tr><td>&quot;Burton (Phillip and Sala) Acad…</td><td>69.96</td><td>97</td><td>60</td><td>85</td><td>1053</td><td>90.419241</td><td>43.824309</td><td>66.599007</td><td>72.81545</td><td>10</td><td>&quot;Shamann Walton&quot;</td><td>321</td><td>92</td><td>17</td><td>105</td><td>414</td><td>41</td><td>18</td><td>20</td><td>3</td><td>31.134821</td><td>8.923375</td><td>1.648885</td><td>10.184287</td><td>40.155189</td><td>3.976722</td><td>1.745878</td><td>1.939864</td><td>0.29098</td><td>30758948</td><td>0.19</td><td>0.18</td><td>0.3</td><td>0.35</td><td>0.08</td><td>0.08</td><td>0.8</td><td>0.11</td><td>null</td><td>1144</td><td>1228</td><td>16676468</td><td>70</td><td>774000</td><td>1961</td><td>230000</td><td>&quot;HS&quot;</td><td>37.720642</td><td>-122.40515</td><td>226</td><td>30.8</td><td>32.59</td><td>63.39</td><td>19.64</td><td>16.96</td><td>219</td><td>12.84</td><td>17.43</td><td>30.28</td><td>19.72</td><td>50.0</td><td>225</td><td>13.78</td><td>30.22</td><td>44.0</td><td>44.89</td><td>11.11</td></tr><tr><td>&quot;Balboa High&quot;</td><td>62.04</td><td>98</td><td>24</td><td>89</td><td>1262</td><td>94.308709</td><td>15.676147</td><td>71.980882</td><td>69.068612</td><td>11</td><td>&quot;Ahsha Safaí&quot;</td><td>545</td><td>68</td><td>24</td><td>85</td><td>410</td><td>52</td><td>41</td><td>24</td><td>2</td><td>43.565148</td><td>5.435651</td><td>1.918465</td><td>6.794564</td><td>32.773781</td><td>4.156675</td><td>3.277378</td><td>1.918465</td><td>0.159872</td><td>83040670</td><td>0.53</td><td>0.54</td><td>0.17</td><td>1.03</td><td>1.07</td><td>0.34</td><td>1.19</td><td>0.74</td><td>1.16</td><td>1262</td><td>1296</td><td>23128311</td><td>70</td><td>446040</td><td>1928</td><td>261700</td><td>&quot;HS&quot;</td><td>37.720905</td><td>-122.440571</td><td>246</td><td>31.71</td><td>37.8</td><td>69.51</td><td>20.73</td><td>9.76</td><td>256</td><td>15.23</td><td>28.52</td><td>43.75</td><td>25.39</td><td>30.86</td><td>259</td><td>6.56</td><td>34.75</td><td>41.31</td><td>52.51</td><td>6.18</td></tr><tr><td>&quot;Francisco Middle&quot;</td><td>58.93</td><td>99</td><td>27</td><td>28</td><td>502</td><td>99.480905</td><td>18.399161</td><td>19.273717</td><td>59.158672</td><td>3</td><td>&quot;Aaron Peskin&quot;</td><td>266</td><td>27</td><td>25</td><td>9</td><td>112</td><td>25</td><td>44</td><td>2</td><td>1</td><td>52.054795</td><td>5.283757</td><td>4.892368</td><td>1.761252</td><td>21.917808</td><td>4.892368</td><td>8.610568</td><td>0.391389</td><td>0.195695</td><td>22515157</td><td>0.31</td><td>0.32</td><td>0.17</td><td>0.7</td><td>null</td><td>0.05</td><td>0.23</td><td>0.23</td><td>0.88</td><td>548</td><td>566</td><td>16164724</td><td>38</td><td>113020</td><td>1924</td><td>122834</td><td>&quot;MS&quot;</td><td>37.804785</td><td>-122.411671</td><td>480</td><td>13.0</td><td>27.25</td><td>40.25</td><td>14.88</td><td>44.86</td><td>491</td><td>13.96</td><td>15.61</td><td>29.57</td><td>21.97</td><td>48.46</td><td>173</td><td>5.26</td><td>17.54</td><td>22.81</td><td>52.05</td><td>25.15</td></tr><tr><td>&quot;Galileo High&quot;</td><td>91.88</td><td>100</td><td>58</td><td>62</td><td>1781</td><td>100.0</td><td>42.312522</td><td>45.355147</td><td>71.916917</td><td>3</td><td>&quot;Aaron Peskin&quot;</td><td>772</td><td>94</td><td>33</td><td>90</td><td>506</td><td>73</td><td>163</td><td>8</td><td>2</td><td>44.342332</td><td>5.399196</td><td>1.895462</td><td>5.169443</td><td>29.063756</td><td>4.192993</td><td>9.362435</td><td>0.459506</td><td>0.114877</td><td>83385883</td><td>0.45</td><td>0.46</td><td>0.38</td><td>1.09</td><td>0.27</td><td>0.19</td><td>null</td><td>1.09</td><td>1.08</td><td>1877</td><td>1942</td><td>19686471</td><td>88</td><td>211200</td><td>1925</td><td>242400</td><td>&quot;HS&quot;</td><td>37.803371</td><td>-122.424072</td><td>363</td><td>36.18</td><td>29.91</td><td>66.1</td><td>17.09</td><td>16.81</td><td>371</td><td>25.27</td><td>26.09</td><td>51.36</td><td>17.39</td><td>31.25</td><td>328</td><td>15.03</td><td>34.66</td><td>49.69</td><td>38.96</td><td>11.35</td></tr></tbody></table></div>"
      ],
      "text/plain": [
       "shape: (101, 68)\n",
       "┌───────────┬───────────┬───────────┬───────────┬───┬───────────┬───────────┬───────────┬──────────┐\n",
       "│ school_na ┆ composite ┆ equity_ra ┆ excellenc ┆ … ┆ science_p ┆ science_p ┆ science_p ┆ science_ │\n",
       "│ me        ┆ _score    ┆ nk        ┆ e_rank    ┆   ┆ ercentage ┆ ercentage ┆ ercentage ┆ percenta │\n",
       "│ ---       ┆ ---       ┆ ---       ┆ ---       ┆   ┆ _standard ┆ _standard ┆ _standard ┆ ge_stand │\n",
       "│ str       ┆ f64       ┆ i64       ┆ i64       ┆   ┆ _me…      ┆ _me…      ┆ _ne…      ┆ ard_no…  │\n",
       "│           ┆           ┆           ┆           ┆   ┆ ---       ┆ ---       ┆ ---       ┆ ---      │\n",
       "│           ┆           ┆           ┆           ┆   ┆ f64       ┆ f64       ┆ f64       ┆ f64      │\n",
       "╞═══════════╪═══════════╪═══════════╪═══════════╪═══╪═══════════╪═══════════╪═══════════╪══════════╡\n",
       "│ Key       ┆ 12.29     ┆ 0         ┆ 84        ┆ … ┆ 34.04     ┆ 56.38     ┆ 38.3      ┆ 5.32     │\n",
       "│ (Francis  ┆           ┆           ┆           ┆   ┆           ┆           ┆           ┆          │\n",
       "│ Scott)    ┆           ┆           ┆           ┆   ┆           ┆           ┆           ┆          │\n",
       "│ Elementar ┆           ┆           ┆           ┆   ┆           ┆           ┆           ┆          │\n",
       "│ y         ┆           ┆           ┆           ┆   ┆           ┆           ┆           ┆          │\n",
       "│ McCoppin  ┆ 19.41     ┆ 1         ┆ 86        ┆ … ┆ 25.81     ┆ 48.39     ┆ 41.94     ┆ 9.68     │\n",
       "│ (Frank)   ┆           ┆           ┆           ┆   ┆           ┆           ┆           ┆          │\n",
       "│ Elementar ┆           ┆           ┆           ┆   ┆           ┆           ┆           ┆          │\n",
       "│ y         ┆           ┆           ┆           ┆   ┆           ┆           ┆           ┆          │\n",
       "│ Peabody   ┆ 15.6      ┆ 2         ┆ 100       ┆ … ┆ 38.1      ┆ 83.33     ┆ 14.29     ┆ 2.38     │\n",
       "│ (George)  ┆           ┆           ┆           ┆   ┆           ┆           ┆           ┆          │\n",
       "│ Elementar ┆           ┆           ┆           ┆   ┆           ┆           ┆           ┆          │\n",
       "│ y         ┆           ┆           ┆           ┆   ┆           ┆           ┆           ┆          │\n",
       "│ Sunset    ┆ 14.35     ┆ 3         ┆ 91        ┆ … ┆ 42.86     ┆ 80.95     ┆ 19.05     ┆ 0.0      │\n",
       "│ Elementar ┆           ┆           ┆           ┆   ┆           ┆           ┆           ┆          │\n",
       "│ y         ┆           ┆           ┆           ┆   ┆           ┆           ┆           ┆          │\n",
       "│ Argonne   ┆ 11.46     ┆ 4         ┆ 75        ┆ … ┆ 30.0      ┆ 56.67     ┆ 38.33     ┆ 5.0      │\n",
       "│ Elementar ┆           ┆           ┆           ┆   ┆           ┆           ┆           ┆          │\n",
       "│ y         ┆           ┆           ┆           ┆   ┆           ┆           ┆           ┆          │\n",
       "│ …         ┆ …         ┆ …         ┆ …         ┆ … ┆ …         ┆ …         ┆ …         ┆ …        │\n",
       "│ Academy   ┆ 53.99     ┆ 96        ┆ 25        ┆ … ┆ 32.76     ┆ 37.93     ┆ 51.72     ┆ 10.34    │\n",
       "│ (The)- SF ┆           ┆           ┆           ┆   ┆           ┆           ┆           ┆          │\n",
       "│ @McAteer  ┆           ┆           ┆           ┆   ┆           ┆           ┆           ┆          │\n",
       "│ Burton    ┆ 69.96     ┆ 97        ┆ 60        ┆ … ┆ 30.22     ┆ 44.0      ┆ 44.89     ┆ 11.11    │\n",
       "│ (Phillip  ┆           ┆           ┆           ┆   ┆           ┆           ┆           ┆          │\n",
       "│ and Sala) ┆           ┆           ┆           ┆   ┆           ┆           ┆           ┆          │\n",
       "│ Acad…     ┆           ┆           ┆           ┆   ┆           ┆           ┆           ┆          │\n",
       "│ Balboa    ┆ 62.04     ┆ 98        ┆ 24        ┆ … ┆ 34.75     ┆ 41.31     ┆ 52.51     ┆ 6.18     │\n",
       "│ High      ┆           ┆           ┆           ┆   ┆           ┆           ┆           ┆          │\n",
       "│ Francisco ┆ 58.93     ┆ 99        ┆ 27        ┆ … ┆ 17.54     ┆ 22.81     ┆ 52.05     ┆ 25.15    │\n",
       "│ Middle    ┆           ┆           ┆           ┆   ┆           ┆           ┆           ┆          │\n",
       "│ Galileo   ┆ 91.88     ┆ 100       ┆ 58        ┆ … ┆ 34.66     ┆ 49.69     ┆ 38.96     ┆ 11.35    │\n",
       "│ High      ┆           ┆           ┆           ┆   ┆           ┆           ┆           ┆          │\n",
       "└───────────┴───────────┴───────────┴───────────┴───┴───────────┴───────────┴───────────┴──────────┘"
      ]
     },
     "execution_count": 19,
     "metadata": {},
     "output_type": "execute_result"
    }
   ],
   "source": [
    "# join all dataframes by school_name\n",
    "combined_data = (component_scores\n",
    "    .join(supervisors, on=\"school_name\", how=\"left\")\n",
    "    .join(demographics, on=\"school_name\", how=\"left\")\n",
    "    .join(facility, on=\"school_name\", how=\"left\")\n",
    "    .join(capacity, on=\"school_name\", how=\"left\")\n",
    "    .join(geo, on=\"school_name\", how=\"left\")\n",
    "    .join(caaspp_ela, on=\"school_name\", how=\"left\")\n",
    "    .join(caaspp_math, on=\"school_name\", how=\"left\")\n",
    "    .join(cast, on=\"school_name\", how=\"left\")\n",
    ")\n",
    "\n",
    "# normalize column names to lowercase and replace spaces with underscores\n",
    "combined_data = combined_data.select([\n",
    "    polars.col(col).alias(col.lower().replace(\" \", \"_\")) for col in combined_data.columns\n",
    "])\n",
    "\n",
    "combined_data.write_csv(workspace_path.joinpath('data/processed/component_scores_augmented.csv'))\n",
    "combined_data"
   ]
  },
  {
   "cell_type": "code",
   "execution_count": null,
   "metadata": {},
   "outputs": [],
   "source": []
  },
  {
   "cell_type": "code",
   "execution_count": 23,
   "metadata": {},
   "outputs": [
    {
     "ename": "ColumnNotFoundError",
     "evalue": "composite_rank\n\nResolved plan until failure:\n\n\t---> FAILED HERE RESOLVING 'with_columns' <---\nDF [\"school_name\", \"composite_score\", \"equity_rank\", \"excellence_rank\"]; PROJECT */71 COLUMNS; SELECTION: None",
     "output_type": "error",
     "traceback": [
      "\u001b[0;31m---------------------------------------------------------------------------\u001b[0m",
      "\u001b[0;31mColumnNotFoundError\u001b[0m                       Traceback (most recent call last)",
      "Cell \u001b[0;32mIn[23], line 18\u001b[0m\n\u001b[1;32m     15\u001b[0m modeled_data \u001b[38;5;241m=\u001b[39m modeled_data\u001b[38;5;241m.\u001b[39msort(\u001b[38;5;124m\"\u001b[39m\u001b[38;5;124mequal_weighted_composite_rank\u001b[39m\u001b[38;5;124m\"\u001b[39m, descending\u001b[38;5;241m=\u001b[39m\u001b[38;5;28;01mTrue\u001b[39;00m)\n\u001b[1;32m     17\u001b[0m \u001b[38;5;66;03m# calculate the composite_rank_change by taking 101 - row_number() - composite_rank\u001b[39;00m\n\u001b[0;32m---> 18\u001b[0m modeled_data \u001b[38;5;241m=\u001b[39m \u001b[43mmodeled_data\u001b[49m\u001b[38;5;241;43m.\u001b[39;49m\u001b[43mwith_columns\u001b[49m\u001b[43m(\u001b[49m\n\u001b[1;32m     19\u001b[0m \u001b[43m    \u001b[49m\u001b[43m(\u001b[49m\u001b[43mpolars\u001b[49m\u001b[38;5;241;43m.\u001b[39;49m\u001b[43mcol\u001b[49m\u001b[43m(\u001b[49m\u001b[38;5;124;43m\"\u001b[39;49m\u001b[38;5;124;43mequal_weighted_composite_rank\u001b[39;49m\u001b[38;5;124;43m\"\u001b[39;49m\u001b[43m)\u001b[49m\u001b[43m \u001b[49m\u001b[38;5;241;43m-\u001b[39;49m\u001b[43m \u001b[49m\u001b[43mpolars\u001b[49m\u001b[38;5;241;43m.\u001b[39;49m\u001b[43mcol\u001b[49m\u001b[43m(\u001b[49m\u001b[38;5;124;43m\"\u001b[39;49m\u001b[38;5;124;43mcomposite_rank\u001b[39;49m\u001b[38;5;124;43m\"\u001b[39;49m\u001b[43m)\u001b[49m\u001b[43m)\u001b[49m\u001b[38;5;241;43m.\u001b[39;49m\u001b[43malias\u001b[49m\u001b[43m(\u001b[49m\u001b[38;5;124;43m\"\u001b[39;49m\u001b[38;5;124;43mcomposite_rank_change\u001b[39;49m\u001b[38;5;124;43m\"\u001b[39;49m\u001b[43m)\u001b[49m\n\u001b[1;32m     20\u001b[0m \u001b[43m)\u001b[49m\n\u001b[1;32m     22\u001b[0m modeled_data\n",
      "File \u001b[0;32m~/dev/personal/sfusd-rai/.venv/lib/python3.12/site-packages/polars/dataframe/frame.py:9183\u001b[0m, in \u001b[0;36mDataFrame.with_columns\u001b[0;34m(self, *exprs, **named_exprs)\u001b[0m\n\u001b[1;32m   9037\u001b[0m \u001b[38;5;28;01mdef\u001b[39;00m \u001b[38;5;21mwith_columns\u001b[39m(\n\u001b[1;32m   9038\u001b[0m     \u001b[38;5;28mself\u001b[39m,\n\u001b[1;32m   9039\u001b[0m     \u001b[38;5;241m*\u001b[39mexprs: IntoExpr \u001b[38;5;241m|\u001b[39m Iterable[IntoExpr],\n\u001b[1;32m   9040\u001b[0m     \u001b[38;5;241m*\u001b[39m\u001b[38;5;241m*\u001b[39mnamed_exprs: IntoExpr,\n\u001b[1;32m   9041\u001b[0m ) \u001b[38;5;241m-\u001b[39m\u001b[38;5;241m>\u001b[39m DataFrame:\n\u001b[1;32m   9042\u001b[0m \u001b[38;5;250m    \u001b[39m\u001b[38;5;124;03m\"\"\"\u001b[39;00m\n\u001b[1;32m   9043\u001b[0m \u001b[38;5;124;03m    Add columns to this DataFrame.\u001b[39;00m\n\u001b[1;32m   9044\u001b[0m \n\u001b[0;32m   (...)\u001b[0m\n\u001b[1;32m   9181\u001b[0m \u001b[38;5;124;03m    └─────┴──────┴─────────────┘\u001b[39;00m\n\u001b[1;32m   9182\u001b[0m \u001b[38;5;124;03m    \"\"\"\u001b[39;00m\n\u001b[0;32m-> 9183\u001b[0m     \u001b[38;5;28;01mreturn\u001b[39;00m \u001b[38;5;28;43mself\u001b[39;49m\u001b[38;5;241;43m.\u001b[39;49m\u001b[43mlazy\u001b[49m\u001b[43m(\u001b[49m\u001b[43m)\u001b[49m\u001b[38;5;241;43m.\u001b[39;49m\u001b[43mwith_columns\u001b[49m\u001b[43m(\u001b[49m\u001b[38;5;241;43m*\u001b[39;49m\u001b[43mexprs\u001b[49m\u001b[43m,\u001b[49m\u001b[43m \u001b[49m\u001b[38;5;241;43m*\u001b[39;49m\u001b[38;5;241;43m*\u001b[39;49m\u001b[43mnamed_exprs\u001b[49m\u001b[43m)\u001b[49m\u001b[38;5;241;43m.\u001b[39;49m\u001b[43mcollect\u001b[49m\u001b[43m(\u001b[49m\u001b[43m_eager\u001b[49m\u001b[38;5;241;43m=\u001b[39;49m\u001b[38;5;28;43;01mTrue\u001b[39;49;00m\u001b[43m)\u001b[49m\n",
      "File \u001b[0;32m~/dev/personal/sfusd-rai/.venv/lib/python3.12/site-packages/polars/lazyframe/frame.py:2050\u001b[0m, in \u001b[0;36mLazyFrame.collect\u001b[0;34m(self, type_coercion, predicate_pushdown, projection_pushdown, simplify_expression, slice_pushdown, comm_subplan_elim, comm_subexpr_elim, cluster_with_columns, collapse_joins, no_optimization, streaming, engine, background, _eager, **_kwargs)\u001b[0m\n\u001b[1;32m   2048\u001b[0m \u001b[38;5;66;03m# Only for testing purposes\u001b[39;00m\n\u001b[1;32m   2049\u001b[0m callback \u001b[38;5;241m=\u001b[39m _kwargs\u001b[38;5;241m.\u001b[39mget(\u001b[38;5;124m\"\u001b[39m\u001b[38;5;124mpost_opt_callback\u001b[39m\u001b[38;5;124m\"\u001b[39m, callback)\n\u001b[0;32m-> 2050\u001b[0m \u001b[38;5;28;01mreturn\u001b[39;00m wrap_df(\u001b[43mldf\u001b[49m\u001b[38;5;241;43m.\u001b[39;49m\u001b[43mcollect\u001b[49m\u001b[43m(\u001b[49m\u001b[43mcallback\u001b[49m\u001b[43m)\u001b[49m)\n",
      "\u001b[0;31mColumnNotFoundError\u001b[0m: composite_rank\n\nResolved plan until failure:\n\n\t---> FAILED HERE RESOLVING 'with_columns' <---\nDF [\"school_name\", \"composite_score\", \"equity_rank\", \"excellence_rank\"]; PROJECT */71 COLUMNS; SELECTION: None"
     ]
    }
   ],
   "source": [
    "modeled_data = combined_data.sort(\"composite_score\")\\\n",
    "    .with_columns(polars.arange(0, combined_data.height, eager=True).alias(\"equal_weighted_composite_rank\"))\n",
    "\n",
    "# calc equal_weighted_composite_score by averaging the equity, excellence, and access scores\n",
    "modeled_data = modeled_data\\\n",
    "    .with_columns(\n",
    "        ((polars.col(\"equity_score_p\") + polars.col(\"excellence_score_p\") + polars.col(\"efficiency_score_p\")) / 3.0)\n",
    "            .alias(\"equal_weighted_composite_score\")\n",
    "    )\\\n",
    "    .with_columns(\n",
    "        (polars.col(\"composite_score\") - polars.col(\"equal_weighted_composite_score\")).alias(\"composite_score_change\")\n",
    "    )\n",
    "\n",
    "# sort by equity_rank asc\n",
    "modeled_data = modeled_data.sort(\"equal_weighted_composite_score\")\\\n",
    "    .with_columns(polars.arange(0, modeled_data.height, eager=True).alias(\"equal_weighted_composite_rank\"))\\\n",
    "    .sort(\"equal_weighted_composite_rank\", descending=True)\n",
    "\n",
    "# calculate the composite_rank_change by taking 101 - row_number() - composite_rank\n",
    "modeled_data = modeled_data.with_columns(\n",
    "    (polars.col(\"equal_weighted_composite_rank\") - polars.col(\"composite_rank\")).alias(\"composite_rank_change\")\n",
    ")\n",
    "\n",
    "modeled_data"
   ]
  },
  {
   "cell_type": "code",
   "execution_count": null,
   "metadata": {},
   "outputs": [],
   "source": []
  }
 ],
 "metadata": {
  "kernelspec": {
   "display_name": "Python 3 (ipykernel)",
   "language": "python",
   "name": "python3"
  },
  "language_info": {
   "codemirror_mode": {
    "name": "ipython",
    "version": 3
   },
   "file_extension": ".py",
   "mimetype": "text/x-python",
   "name": "python",
   "nbconvert_exporter": "python",
   "pygments_lexer": "ipython3",
   "version": "3.12.7"
  }
 },
 "nbformat": 4,
 "nbformat_minor": 2
}
