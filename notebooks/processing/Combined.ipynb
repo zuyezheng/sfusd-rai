{
 "cells": [
  {
   "cell_type": "markdown",
   "metadata": {},
   "source": [
    "# Combine Data by Schools"
   ]
  },
  {
   "cell_type": "code",
   "execution_count": 20,
   "metadata": {},
   "outputs": [],
   "source": [
    "%run notebooks/Setup.ipynb\n",
    "\n",
    "import polars as polars"
   ]
  },
  {
   "cell_type": "markdown",
   "metadata": {},
   "source": [
    "## Augment Composite Scores with Demographics"
   ]
  },
  {
   "cell_type": "code",
   "execution_count": 30,
   "metadata": {},
   "outputs": [],
   "source": [
    "component_scores = polars.read_csv(workspace_path.joinpath('data/processed/component_scores.csv'))\n",
    "supervisors = polars.read_csv(workspace_path.joinpath('data/raw/supervisors.csv'))\n",
    "demographics = polars.read_csv(workspace_path.joinpath('data/processed/race_ethnicity_demographics.csv'))\n",
    "facility = polars.read_csv(workspace_path.joinpath('data/processed/facilities.csv'))\n",
    "capacity = polars.read_csv(workspace_path.joinpath('data/processed/capacity.csv'))"
   ]
  },
  {
   "cell_type": "code",
   "execution_count": 32,
   "metadata": {},
   "outputs": [
    {
     "data": {
      "text/html": [
       "<div><style>\n",
       ".dataframe > thead > tr,\n",
       ".dataframe > tbody > tr {\n",
       "  text-align: right;\n",
       "  white-space: pre-wrap;\n",
       "}\n",
       "</style>\n",
       "<small>shape: (101, 48)</small><table border=\"1\" class=\"dataframe\"><thead><tr><th>school_name</th><th>composite_score</th><th>equity_rank</th><th>excellence_rank</th><th>efficiency_rank</th><th>enrollment</th><th>equity_score_p</th><th>excellence_score_p</th><th>efficiency_score_p</th><th>composite_score_p</th><th>district</th><th>supervisor</th><th>asian_students</th><th>african_american_students</th><th>not_reported_students</th><th>filipino_students</th><th>hispanic_or_latino_students</th><th>two_or_more_races_students</th><th>white_students</th><th>pacific_islander_students</th><th>american_indian_or_alaska_native_students</th><th>asian_percent</th><th>african_american_percent</th><th>not_reported_percent</th><th>filipino_percent</th><th>hispanic_or_latino_percent</th><th>two_or_more_races_percent</th><th>white_percent</th><th>pacific_islander_percent</th><th>american_indian_or_alaska_native_percent</th><th>replacement_costs_in_years_1—5</th><th>overall_campus_fci</th><th>building_fci</th><th>exterior_site_fci</th><th>electrical_system</th><th>equipment</th><th>exterior_enclosure</th><th>fire_protection</th><th>furnishings</th><th>hvac_system</th><th>student_enrollment</th><th>enrollment_capacity</th><th>bond_investments_since_2003</th><th>classrooms</th><th>lot_sq_ft</th><th>year_built</th><th>building_sq_ft</th><th>primary_program</th></tr><tr><td>str</td><td>f64</td><td>i64</td><td>i64</td><td>i64</td><td>i64</td><td>f64</td><td>f64</td><td>f64</td><td>f64</td><td>i64</td><td>str</td><td>i64</td><td>i64</td><td>i64</td><td>i64</td><td>i64</td><td>i64</td><td>i64</td><td>i64</td><td>i64</td><td>f64</td><td>f64</td><td>f64</td><td>f64</td><td>f64</td><td>f64</td><td>f64</td><td>f64</td><td>f64</td><td>i64</td><td>f64</td><td>f64</td><td>f64</td><td>f64</td><td>f64</td><td>f64</td><td>f64</td><td>f64</td><td>f64</td><td>i64</td><td>i64</td><td>i64</td><td>i64</td><td>i64</td><td>i64</td><td>i64</td><td>str</td></tr></thead><tbody><tr><td>&quot;Washington (George) High&quot;</td><td>72.91</td><td>81</td><td>52</td><td>98</td><td>2091</td><td>63.294783</td><td>37.851138</td><td>93.061238</td><td>64.375485</td><td>1</td><td>&quot;Connie Chan&quot;</td><td>1018</td><td>87</td><td>69</td><td>62</td><td>370</td><td>126</td><td>262</td><td>11</td><td>3</td><td>50.697211</td><td>4.332669</td><td>3.436255</td><td>3.087649</td><td>18.426295</td><td>6.2749</td><td>13.047809</td><td>0.547809</td><td>0.149402</td><td>18427650</td><td>0.14</td><td>0.12</td><td>0.27</td><td>0.12</td><td>0.0</td><td>0.0</td><td>0.41</td><td>0.41</td><td>null</td><td>2068</td><td>2101</td><td>97404162</td><td>100</td><td>679002</td><td>1936</td><td>247800</td><td>&quot;HS&quot;</td></tr><tr><td>&quot;Presidio Middle&quot;</td><td>51.16</td><td>52</td><td>44</td><td>94</td><td>996</td><td>39.098491</td><td>31.936443</td><td>80.958686</td><td>47.773028</td><td>1</td><td>&quot;Connie Chan&quot;</td><td>343</td><td>28</td><td>65</td><td>29</td><td>151</td><td>135</td><td>226</td><td>1</td><td>2</td><td>35.0</td><td>2.857143</td><td>6.632653</td><td>2.959184</td><td>15.408163</td><td>13.77551</td><td>23.061224</td><td>0.102041</td><td>0.204082</td><td>25167306</td><td>0.25</td><td>0.24</td><td>0.35</td><td>0.1</td><td>0.39</td><td>0.39</td><td>null</td><td>null</td><td>0.38</td><td>987</td><td>1015</td><td>19362502</td><td>47</td><td>144000</td><td>1930</td><td>140000</td><td>&quot;MS&quot;</td></tr><tr><td>&quot;Lafayette Elementary&quot;</td><td>23.61</td><td>7</td><td>96</td><td>48</td><td>468</td><td>0.0</td><td>86.009098</td><td>34.900858</td><td>30.227489</td><td>1</td><td>&quot;Connie Chan&quot;</td><td>173</td><td>7</td><td>28</td><td>12</td><td>62</td><td>72</td><td>118</td><td>2</td><td>null</td><td>36.49789</td><td>1.476793</td><td>5.907173</td><td>2.531646</td><td>13.080169</td><td>15.189873</td><td>24.894515</td><td>0.421941</td><td>null</td><td>7482095</td><td>0.19</td><td>0.18</td><td>0.29</td><td>0.1</td><td>null</td><td>0.03</td><td>null</td><td>null</td><td>null</td><td>494</td><td>531</td><td>26530616</td><td>26</td><td>74400</td><td>1927</td><td>54283</td><td>&quot;ES&quot;</td></tr><tr><td>&quot;Alamo Elementary&quot;</td><td>14.13</td><td>6</td><td>74</td><td>35</td><td>390</td><td>0.0</td><td>55.243183</td><td>25.054181</td><td>20.074341</td><td>1</td><td>&quot;Connie Chan&quot;</td><td>130</td><td>5</td><td>27</td><td>10</td><td>59</td><td>48</td><td>114</td><td>null</td><td>null</td><td>33.07888</td><td>1.272265</td><td>6.870229</td><td>2.544529</td><td>15.012723</td><td>12.21374</td><td>29.007634</td><td>null</td><td>null</td><td>14767840</td><td>0.34</td><td>0.39</td><td>0.06</td><td>0.81</td><td>null</td><td>0.13</td><td>0.0</td><td>0.0</td><td>1.05</td><td>435</td><td>413</td><td>2862675</td><td>27</td><td>60000</td><td>1926</td><td>50420</td><td>&quot;ES&quot;</td></tr><tr><td>&quot;Argonne Elementary&quot;</td><td>11.46</td><td>4</td><td>75</td><td>40</td><td>389</td><td>0.0</td><td>56.150348</td><td>28.927687</td><td>21.269509</td><td>1</td><td>&quot;Connie Chan&quot;</td><td>118</td><td>12</td><td>33</td><td>13</td><td>43</td><td>39</td><td>108</td><td>2</td><td>null</td><td>32.065217</td><td>3.26087</td><td>8.967391</td><td>3.532609</td><td>11.684783</td><td>10.597826</td><td>29.347826</td><td>0.543478</td><td>null</td><td>9395256</td><td>0.325</td><td>0.315</td><td>0.3</td><td>0.69</td><td>0.2</td><td>0.175</td><td>0.0</td><td>0.27</td><td>0.0</td><td>460</td><td>468</td><td>450000</td><td>24</td><td>106770</td><td>1950</td><td>8275</td><td>&quot;EES&quot;</td></tr><tr><td>&hellip;</td><td>&hellip;</td><td>&hellip;</td><td>&hellip;</td><td>&hellip;</td><td>&hellip;</td><td>&hellip;</td><td>&hellip;</td><td>&hellip;</td><td>&hellip;</td><td>&hellip;</td><td>&hellip;</td><td>&hellip;</td><td>&hellip;</td><td>&hellip;</td><td>&hellip;</td><td>&hellip;</td><td>&hellip;</td><td>&hellip;</td><td>&hellip;</td><td>&hellip;</td><td>&hellip;</td><td>&hellip;</td><td>&hellip;</td><td>&hellip;</td><td>&hellip;</td><td>&hellip;</td><td>&hellip;</td><td>&hellip;</td><td>&hellip;</td><td>&hellip;</td><td>&hellip;</td><td>&hellip;</td><td>&hellip;</td><td>&hellip;</td><td>&hellip;</td><td>&hellip;</td><td>&hellip;</td><td>&hellip;</td><td>&hellip;</td><td>&hellip;</td><td>&hellip;</td><td>&hellip;</td><td>&hellip;</td><td>&hellip;</td><td>&hellip;</td><td>&hellip;</td><td>&hellip;</td></tr><tr><td>&quot;Milk (Harvey) Civil Rights Ele…</td><td>21.5</td><td>9</td><td>73</td><td>71</td><td>133</td><td>0.0</td><td>54.352953</td><td>52.617792</td><td>26.742686</td><td>8</td><td>&quot;Rafael Mandelman&quot;</td><td>1</td><td>22</td><td>7</td><td>null</td><td>32</td><td>20</td><td>70</td><td>2</td><td>null</td><td>0.649351</td><td>14.285714</td><td>4.545455</td><td>null</td><td>20.779221</td><td>12.987013</td><td>45.454545</td><td>1.298701</td><td>null</td><td>489965</td><td>0.02</td><td>0.0</td><td>0.42</td><td>0.0</td><td>null</td><td>0.42</td><td>0.0</td><td>0.0</td><td>null</td><td>187</td><td>198</td><td>20716327</td><td>11</td><td>31405</td><td>1956</td><td>30560</td><td>&quot;ES&quot;</td></tr><tr><td>&quot;Everett Middle&quot;</td><td>15.2</td><td>79</td><td>1</td><td>4</td><td>404</td><td>61.228763</td><td>0.0</td><td>0.0</td><td>30.614381</td><td>8</td><td>&quot;Rafael Mandelman&quot;</td><td>7</td><td>26</td><td>16</td><td>5</td><td>358</td><td>18</td><td>35</td><td>null</td><td>2</td><td>1.498929</td><td>5.567452</td><td>3.426124</td><td>1.070664</td><td>76.659529</td><td>3.85439</td><td>7.494647</td><td>null</td><td>0.428266</td><td>50951547</td><td>0.53</td><td>0.54</td><td>0.23</td><td>0.74</td><td>0.93</td><td>0.36</td><td>0.0</td><td>1.23</td><td>1.04</td><td>598</td><td>637</td><td>12809961</td><td>38</td><td>178298</td><td>1928</td><td>155370</td><td>&quot;MS&quot;</td></tr><tr><td>&quot;Lilienthal (Claire) Elementary&quot;</td><td>40.88</td><td>31</td><td>87</td><td>61</td><td>674</td><td>23.063878</td><td>69.158131</td><td>44.586996</td><td>39.968221</td><td>2</td><td>&quot;Catherine Stefani&quot;</td><td>194</td><td>47</td><td>50</td><td>13</td><td>78</td><td>114</td><td>174</td><td>null</td><td>null</td><td>28.955224</td><td>7.014925</td><td>7.462687</td><td>1.940299</td><td>11.641791</td><td>17.014925</td><td>25.970149</td><td>null</td><td>null</td><td>7443225</td><td>0.21</td><td>0.205</td><td>0.325</td><td>0.44</td><td>1.25</td><td>0.14</td><td>0.0</td><td>0.625</td><td>0.0</td><td>null</td><td>null</td><td>null</td><td>null</td><td>null</td><td>null</td><td>null</td><td>null</td></tr><tr><td>&quot;Marina Middle&quot;</td><td>35.98</td><td>65</td><td>17</td><td>49</td><td>666</td><td>48.945168</td><td>8.509072</td><td>35.638621</td><td>35.509507</td><td>2</td><td>&quot;Catherine Stefani&quot;</td><td>383</td><td>37</td><td>30</td><td>18</td><td>113</td><td>25</td><td>48</td><td>null</td><td>null</td><td>58.562691</td><td>5.657492</td><td>4.587156</td><td>2.752294</td><td>17.278287</td><td>3.82263</td><td>7.33945</td><td>null</td><td>null</td><td>32251032</td><td>0.3</td><td>0.29</td><td>0.89</td><td>0.21</td><td>0.06</td><td>0.19</td><td>0.6</td><td>0.73</td><td>0.73</td><td>684</td><td>739</td><td>44021773</td><td>47</td><td>281180</td><td>1930</td><td>152900</td><td>&quot;MS&quot;</td></tr><tr><td>&quot;Sherman Elementary&quot;</td><td>13.85</td><td>15</td><td>64</td><td>14</td><td>293</td><td>7.400342</td><td>46.909982</td><td>4.901997</td><td>16.653166</td><td>2</td><td>&quot;Catherine Stefani&quot;</td><td>39</td><td>26</td><td>27</td><td>9</td><td>53</td><td>25</td><td>100</td><td>2</td><td>1</td><td>13.829787</td><td>9.219858</td><td>9.574468</td><td>3.191489</td><td>18.794326</td><td>8.865248</td><td>35.460993</td><td>0.70922</td><td>0.35461</td><td>11291026</td><td>0.3</td><td>0.35</td><td>0.03</td><td>0.74</td><td>null</td><td>0.06</td><td>null</td><td>null</td><td>0.0</td><td>285</td><td>322</td><td>1171140</td><td>26</td><td>75625</td><td>1928</td><td>56200</td><td>&quot;ES&quot;</td></tr></tbody></table></div>"
      ],
      "text/plain": [
       "shape: (101, 48)\n",
       "┌───────────┬───────────┬───────────┬───────────┬───┬───────────┬───────────┬───────────┬──────────┐\n",
       "│ school_na ┆ composite ┆ equity_ra ┆ excellenc ┆ … ┆ lot_sq_ft ┆ year_buil ┆ building_ ┆ primary_ │\n",
       "│ me        ┆ _score    ┆ nk        ┆ e_rank    ┆   ┆ ---       ┆ t         ┆ sq_ft     ┆ program  │\n",
       "│ ---       ┆ ---       ┆ ---       ┆ ---       ┆   ┆ i64       ┆ ---       ┆ ---       ┆ ---      │\n",
       "│ str       ┆ f64       ┆ i64       ┆ i64       ┆   ┆           ┆ i64       ┆ i64       ┆ str      │\n",
       "╞═══════════╪═══════════╪═══════════╪═══════════╪═══╪═══════════╪═══════════╪═══════════╪══════════╡\n",
       "│ Washingto ┆ 72.91     ┆ 81        ┆ 52        ┆ … ┆ 679002    ┆ 1936      ┆ 247800    ┆ HS       │\n",
       "│ n         ┆           ┆           ┆           ┆   ┆           ┆           ┆           ┆          │\n",
       "│ (George)  ┆           ┆           ┆           ┆   ┆           ┆           ┆           ┆          │\n",
       "│ High      ┆           ┆           ┆           ┆   ┆           ┆           ┆           ┆          │\n",
       "│ Presidio  ┆ 51.16     ┆ 52        ┆ 44        ┆ … ┆ 144000    ┆ 1930      ┆ 140000    ┆ MS       │\n",
       "│ Middle    ┆           ┆           ┆           ┆   ┆           ┆           ┆           ┆          │\n",
       "│ Lafayette ┆ 23.61     ┆ 7         ┆ 96        ┆ … ┆ 74400     ┆ 1927      ┆ 54283     ┆ ES       │\n",
       "│ Elementar ┆           ┆           ┆           ┆   ┆           ┆           ┆           ┆          │\n",
       "│ y         ┆           ┆           ┆           ┆   ┆           ┆           ┆           ┆          │\n",
       "│ Alamo Ele ┆ 14.13     ┆ 6         ┆ 74        ┆ … ┆ 60000     ┆ 1926      ┆ 50420     ┆ ES       │\n",
       "│ mentary   ┆           ┆           ┆           ┆   ┆           ┆           ┆           ┆          │\n",
       "│ Argonne   ┆ 11.46     ┆ 4         ┆ 75        ┆ … ┆ 106770    ┆ 1950      ┆ 8275      ┆ EES      │\n",
       "│ Elementar ┆           ┆           ┆           ┆   ┆           ┆           ┆           ┆          │\n",
       "│ y         ┆           ┆           ┆           ┆   ┆           ┆           ┆           ┆          │\n",
       "│ …         ┆ …         ┆ …         ┆ …         ┆ … ┆ …         ┆ …         ┆ …         ┆ …        │\n",
       "│ Milk      ┆ 21.5      ┆ 9         ┆ 73        ┆ … ┆ 31405     ┆ 1956      ┆ 30560     ┆ ES       │\n",
       "│ (Harvey)  ┆           ┆           ┆           ┆   ┆           ┆           ┆           ┆          │\n",
       "│ Civil     ┆           ┆           ┆           ┆   ┆           ┆           ┆           ┆          │\n",
       "│ Rights    ┆           ┆           ┆           ┆   ┆           ┆           ┆           ┆          │\n",
       "│ Ele…      ┆           ┆           ┆           ┆   ┆           ┆           ┆           ┆          │\n",
       "│ Everett   ┆ 15.2      ┆ 79        ┆ 1         ┆ … ┆ 178298    ┆ 1928      ┆ 155370    ┆ MS       │\n",
       "│ Middle    ┆           ┆           ┆           ┆   ┆           ┆           ┆           ┆          │\n",
       "│ Lilientha ┆ 40.88     ┆ 31        ┆ 87        ┆ … ┆ null      ┆ null      ┆ null      ┆ null     │\n",
       "│ l         ┆           ┆           ┆           ┆   ┆           ┆           ┆           ┆          │\n",
       "│ (Claire)  ┆           ┆           ┆           ┆   ┆           ┆           ┆           ┆          │\n",
       "│ Elementar ┆           ┆           ┆           ┆   ┆           ┆           ┆           ┆          │\n",
       "│ y         ┆           ┆           ┆           ┆   ┆           ┆           ┆           ┆          │\n",
       "│ Marina    ┆ 35.98     ┆ 65        ┆ 17        ┆ … ┆ 281180    ┆ 1930      ┆ 152900    ┆ MS       │\n",
       "│ Middle    ┆           ┆           ┆           ┆   ┆           ┆           ┆           ┆          │\n",
       "│ Sherman   ┆ 13.85     ┆ 15        ┆ 64        ┆ … ┆ 75625     ┆ 1928      ┆ 56200     ┆ ES       │\n",
       "│ Elementar ┆           ┆           ┆           ┆   ┆           ┆           ┆           ┆          │\n",
       "│ y         ┆           ┆           ┆           ┆   ┆           ┆           ┆           ┆          │\n",
       "└───────────┴───────────┴───────────┴───────────┴───┴───────────┴───────────┴───────────┴──────────┘"
      ]
     },
     "execution_count": 32,
     "metadata": {},
     "output_type": "execute_result"
    }
   ],
   "source": [
    "# join all dataframes by school_name\n",
    "combined_data = (component_scores\n",
    "    .join(supervisors, on=\"school_name\", how=\"left\")\n",
    "    .join(demographics, on=\"school_name\", how=\"left\")\n",
    "    .join(facility, on=\"school_name\", how=\"left\")\n",
    "    .join(capacity, on=\"school_name\", how=\"left\")\n",
    ")\n",
    "\n",
    "# Normalize column names to lowercase and replace spaces with underscores\n",
    "combined_data = combined_data.select([\n",
    "    polars.col(col).alias(col.lower().replace(\" \", \"_\")) for col in combined_data.columns\n",
    "])\n",
    "\n",
    "combined_data.write_csv(workspace_path.joinpath('data/processed/component_scores_augmented.csv'))\n",
    "combined_data\n"
   ]
  },
  {
   "cell_type": "code",
   "execution_count": null,
   "metadata": {},
   "outputs": [],
   "source": []
  }
 ],
 "metadata": {
  "kernelspec": {
   "display_name": "Python 3 (ipykernel)",
   "language": "python",
   "name": "python3"
  },
  "language_info": {
   "codemirror_mode": {
    "name": "ipython",
    "version": 3
   },
   "file_extension": ".py",
   "mimetype": "text/x-python",
   "name": "python",
   "nbconvert_exporter": "python",
   "pygments_lexer": "ipython3",
   "version": "3.12.6"
  }
 },
 "nbformat": 4,
 "nbformat_minor": 2
}
