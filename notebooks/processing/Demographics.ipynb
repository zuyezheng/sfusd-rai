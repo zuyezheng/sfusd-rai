{
 "cells": [
  {
   "cell_type": "markdown",
   "metadata": {},
   "source": [
    "# Demographics Processing\n",
    "\n",
    "Process the demographics data from https://www.cde.ca.gov/ds/ad/filesenrcensus.asp"
   ]
  },
  {
   "cell_type": "code",
   "execution_count": 1,
   "metadata": {},
   "outputs": [],
   "source": [
    "%run notebooks/Setup.ipynb\n",
    "\n",
    "import json\n",
    "import polars as polars"
   ]
  },
  {
   "cell_type": "markdown",
   "metadata": {},
   "source": [
    "## Pivot Data by Race and Ethnicity"
   ]
  },
  {
   "cell_type": "code",
   "execution_count": 12,
   "metadata": {},
   "outputs": [
    {
     "data": {
      "text/plain": [
       "119"
      ]
     },
     "execution_count": 12,
     "metadata": {},
     "output_type": "execute_result"
    }
   ],
   "source": [
    "# load all the data\n",
    "all_data = polars.read_csv(workspace_path.joinpath('data/raw/dataquest/cdenroll2324-v2.txt'), separator='\\t', ignore_errors=True)\n",
    "\n",
    "# only look at San Francisco Unified at the school level\n",
    "sf_unified = all_data.filter(\n",
    "    (polars.col('DistrictName') == 'San Francisco Unified') & \n",
    "    (polars.col('AggregateLevel') == 'S')\n",
    ")\n",
    "\n",
    "# filter for rows reporting on race and ethnicity\n",
    "sf_unified = sf_unified.filter(\n",
    "    polars.col('ReportingCategory').str.starts_with('RE_')\n",
    ")\n",
    "\n",
    "# count the number of schools in the dataset\n",
    "sf_unified['SchoolName'].n_unique()"
   ]
  },
  {
   "cell_type": "code",
   "execution_count": 13,
   "metadata": {},
   "outputs": [
    {
     "data": {
      "text/html": [
       "<div><style>\n",
       ".dataframe > thead > tr,\n",
       ".dataframe > tbody > tr {\n",
       "  text-align: right;\n",
       "  white-space: pre-wrap;\n",
       "}\n",
       "</style>\n",
       "<small>shape: (5, 18)</small><table border=\"1\" class=\"dataframe\"><thead><tr><th>SchoolName</th><th>Charter</th><th>GR_ALL</th><th>GR_TK</th><th>GR_KN</th><th>GR_01</th><th>GR_02</th><th>GR_03</th><th>GR_04</th><th>GR_05</th><th>GR_06</th><th>GR_07</th><th>GR_08</th><th>GR_09</th><th>GR_10</th><th>GR_11</th><th>GR_12</th><th>Race/Ethnicity</th></tr><tr><td>str</td><td>str</td><td>i64</td><td>i64</td><td>i64</td><td>i64</td><td>i64</td><td>i64</td><td>i64</td><td>i64</td><td>i64</td><td>i64</td><td>i64</td><td>i64</td><td>i64</td><td>i64</td><td>i64</td><td>str</td></tr></thead><tbody><tr><td>&quot;District Office&quot;</td><td>&quot;N&quot;</td><td>21</td><td>21</td><td>0</td><td>0</td><td>0</td><td>0</td><td>0</td><td>0</td><td>0</td><td>0</td><td>0</td><td>0</td><td>0</td><td>0</td><td>0</td><td>&quot;Asian&quot;</td></tr><tr><td>&quot;District Office&quot;</td><td>&quot;N&quot;</td><td>1</td><td>1</td><td>0</td><td>0</td><td>0</td><td>0</td><td>0</td><td>0</td><td>0</td><td>0</td><td>0</td><td>0</td><td>0</td><td>0</td><td>0</td><td>&quot;African American&quot;</td></tr><tr><td>&quot;District Office&quot;</td><td>&quot;N&quot;</td><td>2</td><td>2</td><td>0</td><td>0</td><td>0</td><td>0</td><td>0</td><td>0</td><td>0</td><td>0</td><td>0</td><td>0</td><td>0</td><td>0</td><td>0</td><td>&quot;Not Reported&quot;</td></tr><tr><td>&quot;District Office&quot;</td><td>&quot;N&quot;</td><td>2</td><td>2</td><td>0</td><td>0</td><td>0</td><td>0</td><td>0</td><td>0</td><td>0</td><td>0</td><td>0</td><td>0</td><td>0</td><td>0</td><td>0</td><td>&quot;Filipino&quot;</td></tr><tr><td>&quot;District Office&quot;</td><td>&quot;N&quot;</td><td>21</td><td>21</td><td>0</td><td>0</td><td>0</td><td>0</td><td>0</td><td>0</td><td>0</td><td>0</td><td>0</td><td>0</td><td>0</td><td>0</td><td>0</td><td>&quot;Hispanic or Latino&quot;</td></tr></tbody></table></div>"
      ],
      "text/plain": [
       "shape: (5, 18)\n",
       "┌─────────────────┬─────────┬────────┬───────┬───┬───────┬───────┬───────┬────────────────────┐\n",
       "│ SchoolName      ┆ Charter ┆ GR_ALL ┆ GR_TK ┆ … ┆ GR_10 ┆ GR_11 ┆ GR_12 ┆ Race/Ethnicity     │\n",
       "│ ---             ┆ ---     ┆ ---    ┆ ---   ┆   ┆ ---   ┆ ---   ┆ ---   ┆ ---                │\n",
       "│ str             ┆ str     ┆ i64    ┆ i64   ┆   ┆ i64   ┆ i64   ┆ i64   ┆ str                │\n",
       "╞═════════════════╪═════════╪════════╪═══════╪═══╪═══════╪═══════╪═══════╪════════════════════╡\n",
       "│ District Office ┆ N       ┆ 21     ┆ 21    ┆ … ┆ 0     ┆ 0     ┆ 0     ┆ Asian              │\n",
       "│ District Office ┆ N       ┆ 1      ┆ 1     ┆ … ┆ 0     ┆ 0     ┆ 0     ┆ African American   │\n",
       "│ District Office ┆ N       ┆ 2      ┆ 2     ┆ … ┆ 0     ┆ 0     ┆ 0     ┆ Not Reported       │\n",
       "│ District Office ┆ N       ┆ 2      ┆ 2     ┆ … ┆ 0     ┆ 0     ┆ 0     ┆ Filipino           │\n",
       "│ District Office ┆ N       ┆ 21     ┆ 21    ┆ … ┆ 0     ┆ 0     ┆ 0     ┆ Hispanic or Latino │\n",
       "└─────────────────┴─────────┴────────┴───────┴───┴───────┴───────┴───────┴────────────────────┘"
      ]
     },
     "execution_count": 13,
     "metadata": {},
     "output_type": "execute_result"
    }
   ],
   "source": [
    "# defined codes\n",
    "reporting_category_map = {\n",
    "    'RE_A': 'Asian',\n",
    "    'RE_B': 'African American',\n",
    "    'RE_D': 'Not Reported',\n",
    "    'RE_F': 'Filipino',\n",
    "    'RE_H': 'Hispanic or Latino',\n",
    "    'RE_I': 'American Indian or Alaska Native',\n",
    "    'RE_P': 'Pacific Islander',\n",
    "    'RE_T': 'Two or More Races',\n",
    "    'RE_W': 'White'\n",
    "}\n",
    "\n",
    "# map from codes to labels\n",
    "sf_unified = sf_unified.with_columns(\n",
    "    polars.col('ReportingCategory')\n",
    "        .map_elements(lambda x: reporting_category_map.get(x, x), return_dtype=polars.String)\n",
    "        .alias('Race/Ethnicity')\n",
    ")\n",
    "\n",
    "# Rename TOTAL_ENR to GR_ALL since adding more totals will make it confusing\n",
    "sf_unified = sf_unified.rename({'TOTAL_ENR': 'GR_ALL'})\n",
    "\n",
    "# clean up some columns\n",
    "sf_unified = sf_unified.drop([\n",
    "    'AcademicYear', 'AggregateLevel', 'CountyCode', 'DistrictCode', 'SchoolCode', 'CountyName', 'DistrictName', 'ReportingCategory'\n",
    "])\n",
    "\n",
    "sf_unified.head()"
   ]
  },
  {
   "cell_type": "code",
   "execution_count": 14,
   "metadata": {},
   "outputs": [
    {
     "data": {
      "text/html": [
       "<div><style>\n",
       ".dataframe > thead > tr,\n",
       ".dataframe > tbody > tr {\n",
       "  text-align: right;\n",
       "  white-space: pre-wrap;\n",
       "}\n",
       "</style>\n",
       "<small>shape: (5, 19)</small><table border=\"1\" class=\"dataframe\"><thead><tr><th>SchoolName</th><th>Charter</th><th>GR_ALL</th><th>GR_TK</th><th>GR_KN</th><th>GR_01</th><th>GR_02</th><th>GR_03</th><th>GR_04</th><th>GR_05</th><th>GR_06</th><th>GR_07</th><th>GR_08</th><th>GR_09</th><th>GR_10</th><th>GR_11</th><th>GR_12</th><th>Race/Ethnicity</th><th>TOTAL_ALL</th></tr><tr><td>str</td><td>str</td><td>i64</td><td>i64</td><td>i64</td><td>i64</td><td>i64</td><td>i64</td><td>i64</td><td>i64</td><td>i64</td><td>i64</td><td>i64</td><td>i64</td><td>i64</td><td>i64</td><td>i64</td><td>str</td><td>i64</td></tr></thead><tbody><tr><td>&quot;District Office&quot;</td><td>&quot;N&quot;</td><td>21</td><td>21</td><td>0</td><td>0</td><td>0</td><td>0</td><td>0</td><td>0</td><td>0</td><td>0</td><td>0</td><td>0</td><td>0</td><td>0</td><td>0</td><td>&quot;Asian&quot;</td><td>66</td></tr><tr><td>&quot;District Office&quot;</td><td>&quot;N&quot;</td><td>1</td><td>1</td><td>0</td><td>0</td><td>0</td><td>0</td><td>0</td><td>0</td><td>0</td><td>0</td><td>0</td><td>0</td><td>0</td><td>0</td><td>0</td><td>&quot;African American&quot;</td><td>66</td></tr><tr><td>&quot;District Office&quot;</td><td>&quot;N&quot;</td><td>2</td><td>2</td><td>0</td><td>0</td><td>0</td><td>0</td><td>0</td><td>0</td><td>0</td><td>0</td><td>0</td><td>0</td><td>0</td><td>0</td><td>0</td><td>&quot;Not Reported&quot;</td><td>66</td></tr><tr><td>&quot;District Office&quot;</td><td>&quot;N&quot;</td><td>2</td><td>2</td><td>0</td><td>0</td><td>0</td><td>0</td><td>0</td><td>0</td><td>0</td><td>0</td><td>0</td><td>0</td><td>0</td><td>0</td><td>0</td><td>&quot;Filipino&quot;</td><td>66</td></tr><tr><td>&quot;District Office&quot;</td><td>&quot;N&quot;</td><td>21</td><td>21</td><td>0</td><td>0</td><td>0</td><td>0</td><td>0</td><td>0</td><td>0</td><td>0</td><td>0</td><td>0</td><td>0</td><td>0</td><td>0</td><td>&quot;Hispanic or Latino&quot;</td><td>66</td></tr></tbody></table></div>"
      ],
      "text/plain": [
       "shape: (5, 19)\n",
       "┌─────────────────┬─────────┬────────┬───────┬───┬───────┬───────┬────────────────────┬───────────┐\n",
       "│ SchoolName      ┆ Charter ┆ GR_ALL ┆ GR_TK ┆ … ┆ GR_11 ┆ GR_12 ┆ Race/Ethnicity     ┆ TOTAL_ALL │\n",
       "│ ---             ┆ ---     ┆ ---    ┆ ---   ┆   ┆ ---   ┆ ---   ┆ ---                ┆ ---       │\n",
       "│ str             ┆ str     ┆ i64    ┆ i64   ┆   ┆ i64   ┆ i64   ┆ str                ┆ i64       │\n",
       "╞═════════════════╪═════════╪════════╪═══════╪═══╪═══════╪═══════╪════════════════════╪═══════════╡\n",
       "│ District Office ┆ N       ┆ 21     ┆ 21    ┆ … ┆ 0     ┆ 0     ┆ Asian              ┆ 66        │\n",
       "│ District Office ┆ N       ┆ 1      ┆ 1     ┆ … ┆ 0     ┆ 0     ┆ African American   ┆ 66        │\n",
       "│ District Office ┆ N       ┆ 2      ┆ 2     ┆ … ┆ 0     ┆ 0     ┆ Not Reported       ┆ 66        │\n",
       "│ District Office ┆ N       ┆ 2      ┆ 2     ┆ … ┆ 0     ┆ 0     ┆ Filipino           ┆ 66        │\n",
       "│ District Office ┆ N       ┆ 21     ┆ 21    ┆ … ┆ 0     ┆ 0     ┆ Hispanic or Latino ┆ 66        │\n",
       "└─────────────────┴─────────┴────────┴───────┴───┴───────┴───────┴────────────────────┴───────────┘"
      ]
     },
     "execution_count": 14,
     "metadata": {},
     "output_type": "execute_result"
    }
   ],
   "source": [
    "# compute total enrolled across all race/ethnicities per school\n",
    "total_enrolled = sf_unified.group_by('SchoolName').agg(\n",
    "    TOTAL_ALL=polars.col('GR_ALL').sum()\n",
    ")\n",
    "\n",
    "# add the TOTAL_ALL column back to the main dataframe\n",
    "sf_unified_with_totals = sf_unified.join(total_enrolled, on='SchoolName', how='left')\n",
    "\n",
    "sf_unified_with_totals.head()\n"
   ]
  },
  {
   "cell_type": "code",
   "execution_count": 15,
   "metadata": {},
   "outputs": [
    {
     "data": {
      "text/html": [
       "<div><style>\n",
       ".dataframe > thead > tr,\n",
       ".dataframe > tbody > tr {\n",
       "  text-align: right;\n",
       "  white-space: pre-wrap;\n",
       "}\n",
       "</style>\n",
       "<small>shape: (5, 34)</small><table border=\"1\" class=\"dataframe\"><thead><tr><th>SchoolName</th><th>Charter</th><th>GR_ALL</th><th>GR_TK</th><th>GR_KN</th><th>GR_01</th><th>GR_02</th><th>GR_03</th><th>GR_04</th><th>GR_05</th><th>GR_06</th><th>GR_07</th><th>GR_08</th><th>GR_09</th><th>GR_10</th><th>GR_11</th><th>GR_12</th><th>Race/Ethnicity</th><th>TOTAL_ALL</th><th>GR_01_PCT</th><th>GR_02_PCT</th><th>GR_03_PCT</th><th>GR_04_PCT</th><th>GR_05_PCT</th><th>GR_06_PCT</th><th>GR_07_PCT</th><th>GR_08_PCT</th><th>GR_09_PCT</th><th>GR_10_PCT</th><th>GR_11_PCT</th><th>GR_12_PCT</th><th>GR_TK_PCT</th><th>GR_KN_PCT</th><th>GR_ALL_PCT</th></tr><tr><td>str</td><td>str</td><td>i64</td><td>i64</td><td>i64</td><td>i64</td><td>i64</td><td>i64</td><td>i64</td><td>i64</td><td>i64</td><td>i64</td><td>i64</td><td>i64</td><td>i64</td><td>i64</td><td>i64</td><td>str</td><td>i64</td><td>f64</td><td>f64</td><td>f64</td><td>f64</td><td>f64</td><td>f64</td><td>f64</td><td>f64</td><td>f64</td><td>f64</td><td>f64</td><td>f64</td><td>f64</td><td>f64</td><td>f64</td></tr></thead><tbody><tr><td>&quot;District Office&quot;</td><td>&quot;N&quot;</td><td>21</td><td>21</td><td>0</td><td>0</td><td>0</td><td>0</td><td>0</td><td>0</td><td>0</td><td>0</td><td>0</td><td>0</td><td>0</td><td>0</td><td>0</td><td>&quot;Asian&quot;</td><td>66</td><td>0.0</td><td>0.0</td><td>0.0</td><td>0.0</td><td>0.0</td><td>0.0</td><td>0.0</td><td>0.0</td><td>0.0</td><td>0.0</td><td>0.0</td><td>0.0</td><td>31.818182</td><td>0.0</td><td>31.818182</td></tr><tr><td>&quot;District Office&quot;</td><td>&quot;N&quot;</td><td>1</td><td>1</td><td>0</td><td>0</td><td>0</td><td>0</td><td>0</td><td>0</td><td>0</td><td>0</td><td>0</td><td>0</td><td>0</td><td>0</td><td>0</td><td>&quot;African American&quot;</td><td>66</td><td>0.0</td><td>0.0</td><td>0.0</td><td>0.0</td><td>0.0</td><td>0.0</td><td>0.0</td><td>0.0</td><td>0.0</td><td>0.0</td><td>0.0</td><td>0.0</td><td>1.515152</td><td>0.0</td><td>1.515152</td></tr><tr><td>&quot;District Office&quot;</td><td>&quot;N&quot;</td><td>2</td><td>2</td><td>0</td><td>0</td><td>0</td><td>0</td><td>0</td><td>0</td><td>0</td><td>0</td><td>0</td><td>0</td><td>0</td><td>0</td><td>0</td><td>&quot;Not Reported&quot;</td><td>66</td><td>0.0</td><td>0.0</td><td>0.0</td><td>0.0</td><td>0.0</td><td>0.0</td><td>0.0</td><td>0.0</td><td>0.0</td><td>0.0</td><td>0.0</td><td>0.0</td><td>3.030303</td><td>0.0</td><td>3.030303</td></tr><tr><td>&quot;District Office&quot;</td><td>&quot;N&quot;</td><td>2</td><td>2</td><td>0</td><td>0</td><td>0</td><td>0</td><td>0</td><td>0</td><td>0</td><td>0</td><td>0</td><td>0</td><td>0</td><td>0</td><td>0</td><td>&quot;Filipino&quot;</td><td>66</td><td>0.0</td><td>0.0</td><td>0.0</td><td>0.0</td><td>0.0</td><td>0.0</td><td>0.0</td><td>0.0</td><td>0.0</td><td>0.0</td><td>0.0</td><td>0.0</td><td>3.030303</td><td>0.0</td><td>3.030303</td></tr><tr><td>&quot;District Office&quot;</td><td>&quot;N&quot;</td><td>21</td><td>21</td><td>0</td><td>0</td><td>0</td><td>0</td><td>0</td><td>0</td><td>0</td><td>0</td><td>0</td><td>0</td><td>0</td><td>0</td><td>0</td><td>&quot;Hispanic or Latino&quot;</td><td>66</td><td>0.0</td><td>0.0</td><td>0.0</td><td>0.0</td><td>0.0</td><td>0.0</td><td>0.0</td><td>0.0</td><td>0.0</td><td>0.0</td><td>0.0</td><td>0.0</td><td>31.818182</td><td>0.0</td><td>31.818182</td></tr></tbody></table></div>"
      ],
      "text/plain": [
       "shape: (5, 34)\n",
       "┌─────────────────┬─────────┬────────┬───────┬───┬───────────┬───────────┬───────────┬────────────┐\n",
       "│ SchoolName      ┆ Charter ┆ GR_ALL ┆ GR_TK ┆ … ┆ GR_12_PCT ┆ GR_TK_PCT ┆ GR_KN_PCT ┆ GR_ALL_PCT │\n",
       "│ ---             ┆ ---     ┆ ---    ┆ ---   ┆   ┆ ---       ┆ ---       ┆ ---       ┆ ---        │\n",
       "│ str             ┆ str     ┆ i64    ┆ i64   ┆   ┆ f64       ┆ f64       ┆ f64       ┆ f64        │\n",
       "╞═════════════════╪═════════╪════════╪═══════╪═══╪═══════════╪═══════════╪═══════════╪════════════╡\n",
       "│ District Office ┆ N       ┆ 21     ┆ 21    ┆ … ┆ 0.0       ┆ 31.818182 ┆ 0.0       ┆ 31.818182  │\n",
       "│ District Office ┆ N       ┆ 1      ┆ 1     ┆ … ┆ 0.0       ┆ 1.515152  ┆ 0.0       ┆ 1.515152   │\n",
       "│ District Office ┆ N       ┆ 2      ┆ 2     ┆ … ┆ 0.0       ┆ 3.030303  ┆ 0.0       ┆ 3.030303   │\n",
       "│ District Office ┆ N       ┆ 2      ┆ 2     ┆ … ┆ 0.0       ┆ 3.030303  ┆ 0.0       ┆ 3.030303   │\n",
       "│ District Office ┆ N       ┆ 21     ┆ 21    ┆ … ┆ 0.0       ┆ 31.818182 ┆ 0.0       ┆ 31.818182  │\n",
       "└─────────────────┴─────────┴────────┴───────┴───┴───────────┴───────────┴───────────┴────────────┘"
      ]
     },
     "execution_count": 15,
     "metadata": {},
     "output_type": "execute_result"
    }
   ],
   "source": [
    "# compute percentages of each grade column\n",
    "grade_columns = [f'GR_{str(i).zfill(2)}' for i in range(1, 13)] + ['GR_TK', 'GR_KN', 'GR_ALL']\n",
    "\n",
    "sf_unified_percentages = sf_unified_with_totals.with_columns([\n",
    "    (polars.col(col) / polars.col('TOTAL_ALL') * 100).alias(f'{col}_PCT')\n",
    "    for col in grade_columns\n",
    "])\n",
    "\n",
    "# Round percentage columns to two decimal places\n",
    "percentage_columns = [col for col in sf_unified.columns if col.endswith('_PCT')]\n",
    "sf_unified_percentages.head()\n"
   ]
  },
  {
   "cell_type": "markdown",
   "metadata": {},
   "source": [
    "## Pivot by School"
   ]
  },
  {
   "cell_type": "code",
   "execution_count": 21,
   "metadata": {},
   "outputs": [
    {
     "data": {
      "text/html": [
       "<div><style>\n",
       ".dataframe > thead > tr,\n",
       ".dataframe > tbody > tr {\n",
       "  text-align: right;\n",
       "  white-space: pre-wrap;\n",
       "}\n",
       "</style>\n",
       "<small>shape: (119, 19)</small><table border=\"1\" class=\"dataframe\"><thead><tr><th>school_name</th><th>asian_students</th><th>african_american_students</th><th>not_reported_students</th><th>filipino_students</th><th>hispanic_or_latino_students</th><th>two_or_more_races_students</th><th>white_students</th><th>pacific_islander_students</th><th>american_indian_or_alaska_native_students</th><th>asian_percent</th><th>african_american_percent</th><th>not_reported_percent</th><th>filipino_percent</th><th>hispanic_or_latino_percent</th><th>two_or_more_races_percent</th><th>white_percent</th><th>pacific_islander_percent</th><th>american_indian_or_alaska_native_percent</th></tr><tr><td>str</td><td>i64</td><td>i64</td><td>i64</td><td>i64</td><td>i64</td><td>i64</td><td>i64</td><td>i64</td><td>i64</td><td>f64</td><td>f64</td><td>f64</td><td>f64</td><td>f64</td><td>f64</td><td>f64</td><td>f64</td><td>f64</td></tr></thead><tbody><tr><td>&quot;District Office&quot;</td><td>21</td><td>1</td><td>2</td><td>2</td><td>21</td><td>7</td><td>12</td><td>null</td><td>null</td><td>31.818182</td><td>1.515152</td><td>3.030303</td><td>3.030303</td><td>31.818182</td><td>10.606061</td><td>18.181818</td><td>null</td><td>null</td></tr><tr><td>&quot;KIPP Bayview Academy&quot;</td><td>3</td><td>62</td><td>null</td><td>null</td><td>95</td><td>9</td><td>null</td><td>16</td><td>null</td><td>1.621622</td><td>33.513514</td><td>null</td><td>null</td><td>51.351351</td><td>4.864865</td><td>null</td><td>8.648649</td><td>null</td></tr><tr><td>&quot;KIPP San Francisco Bay Academy&quot;</td><td>9</td><td>55</td><td>null</td><td>3</td><td>178</td><td>5</td><td>12</td><td>4</td><td>null</td><td>3.383459</td><td>20.676692</td><td>null</td><td>1.12782</td><td>66.917293</td><td>1.879699</td><td>4.511278</td><td>1.503759</td><td>null</td></tr><tr><td>&quot;Five Keys Charter (SF Sheriff&#x27;…</td><td>2</td><td>21</td><td>null</td><td>1</td><td>112</td><td>7</td><td>9</td><td>1</td><td>null</td><td>1.30719</td><td>13.72549</td><td>null</td><td>0.653595</td><td>73.202614</td><td>4.575163</td><td>5.882353</td><td>0.653595</td><td>null</td></tr><tr><td>&quot;Jordan (June) School for Equit…</td><td>9</td><td>18</td><td>6</td><td>10</td><td>147</td><td>9</td><td>3</td><td>4</td><td>null</td><td>4.368932</td><td>8.737864</td><td>2.912621</td><td>4.854369</td><td>71.359223</td><td>4.368932</td><td>1.456311</td><td>1.941748</td><td>null</td></tr><tr><td>&hellip;</td><td>&hellip;</td><td>&hellip;</td><td>&hellip;</td><td>&hellip;</td><td>&hellip;</td><td>&hellip;</td><td>&hellip;</td><td>&hellip;</td><td>&hellip;</td><td>&hellip;</td><td>&hellip;</td><td>&hellip;</td><td>&hellip;</td><td>&hellip;</td><td>&hellip;</td><td>&hellip;</td><td>&hellip;</td><td>&hellip;</td></tr><tr><td>&quot;Creative Arts Charter&quot;</td><td>18</td><td>51</td><td>4</td><td>2</td><td>96</td><td>66</td><td>192</td><td>null</td><td>null</td><td>4.195804</td><td>11.888112</td><td>0.932401</td><td>0.4662</td><td>22.377622</td><td>15.384615</td><td>44.755245</td><td>null</td><td>null</td></tr><tr><td>&quot;Yu (Alice Fong) Elementary&quot;</td><td>352</td><td>33</td><td>42</td><td>18</td><td>29</td><td>83</td><td>29</td><td>null</td><td>3</td><td>59.762309</td><td>5.602716</td><td>7.13073</td><td>3.056027</td><td>4.923599</td><td>14.091681</td><td>4.923599</td><td>null</td><td>0.509338</td></tr><tr><td>&quot;Chin (John Yehall) Elementary&quot;</td><td>207</td><td>2</td><td>8</td><td>7</td><td>11</td><td>3</td><td>15</td><td>null</td><td>null</td><td>81.818182</td><td>0.790514</td><td>3.162055</td><td>2.766798</td><td>4.347826</td><td>1.185771</td><td>5.928854</td><td>null</td><td>null</td></tr><tr><td>&quot;Sunset Elementary&quot;</td><td>222</td><td>3</td><td>26</td><td>7</td><td>26</td><td>48</td><td>71</td><td>null</td><td>null</td><td>55.086849</td><td>0.744417</td><td>6.451613</td><td>1.736973</td><td>6.451613</td><td>11.91067</td><td>17.617866</td><td>null</td><td>null</td></tr><tr><td>&quot;Tenderloin Community&quot;</td><td>38</td><td>26</td><td>13</td><td>10</td><td>144</td><td>14</td><td>31</td><td>2</td><td>null</td><td>13.669065</td><td>9.352518</td><td>4.676259</td><td>3.597122</td><td>51.798561</td><td>5.035971</td><td>11.151079</td><td>0.719424</td><td>null</td></tr></tbody></table></div>"
      ],
      "text/plain": [
       "shape: (119, 19)\n",
       "┌───────────┬───────────┬───────────┬───────────┬───┬───────────┬───────────┬───────────┬──────────┐\n",
       "│ school_na ┆ asian_stu ┆ african_a ┆ not_repor ┆ … ┆ two_or_mo ┆ white_per ┆ pacific_i ┆ american │\n",
       "│ me        ┆ dents     ┆ merican_s ┆ ted_stude ┆   ┆ re_races_ ┆ cent      ┆ slander_p ┆ _indian_ │\n",
       "│ ---       ┆ ---       ┆ tudents   ┆ nts       ┆   ┆ percent   ┆ ---       ┆ ercent    ┆ or_alask │\n",
       "│ str       ┆ i64       ┆ ---       ┆ ---       ┆   ┆ ---       ┆ f64       ┆ ---       ┆ a_nati…  │\n",
       "│           ┆           ┆ i64       ┆ i64       ┆   ┆ f64       ┆           ┆ f64       ┆ ---      │\n",
       "│           ┆           ┆           ┆           ┆   ┆           ┆           ┆           ┆ f64      │\n",
       "╞═══════════╪═══════════╪═══════════╪═══════════╪═══╪═══════════╪═══════════╪═══════════╪══════════╡\n",
       "│ District  ┆ 21        ┆ 1         ┆ 2         ┆ … ┆ 10.606061 ┆ 18.181818 ┆ null      ┆ null     │\n",
       "│ Office    ┆           ┆           ┆           ┆   ┆           ┆           ┆           ┆          │\n",
       "│ KIPP      ┆ 3         ┆ 62        ┆ null      ┆ … ┆ 4.864865  ┆ null      ┆ 8.648649  ┆ null     │\n",
       "│ Bayview   ┆           ┆           ┆           ┆   ┆           ┆           ┆           ┆          │\n",
       "│ Academy   ┆           ┆           ┆           ┆   ┆           ┆           ┆           ┆          │\n",
       "│ KIPP San  ┆ 9         ┆ 55        ┆ null      ┆ … ┆ 1.879699  ┆ 4.511278  ┆ 1.503759  ┆ null     │\n",
       "│ Francisco ┆           ┆           ┆           ┆   ┆           ┆           ┆           ┆          │\n",
       "│ Bay       ┆           ┆           ┆           ┆   ┆           ┆           ┆           ┆          │\n",
       "│ Academy   ┆           ┆           ┆           ┆   ┆           ┆           ┆           ┆          │\n",
       "│ Five Keys ┆ 2         ┆ 21        ┆ null      ┆ … ┆ 4.575163  ┆ 5.882353  ┆ 0.653595  ┆ null     │\n",
       "│ Charter   ┆           ┆           ┆           ┆   ┆           ┆           ┆           ┆          │\n",
       "│ (SF       ┆           ┆           ┆           ┆   ┆           ┆           ┆           ┆          │\n",
       "│ Sheriff'… ┆           ┆           ┆           ┆   ┆           ┆           ┆           ┆          │\n",
       "│ Jordan    ┆ 9         ┆ 18        ┆ 6         ┆ … ┆ 4.368932  ┆ 1.456311  ┆ 1.941748  ┆ null     │\n",
       "│ (June)    ┆           ┆           ┆           ┆   ┆           ┆           ┆           ┆          │\n",
       "│ School    ┆           ┆           ┆           ┆   ┆           ┆           ┆           ┆          │\n",
       "│ for       ┆           ┆           ┆           ┆   ┆           ┆           ┆           ┆          │\n",
       "│ Equit…    ┆           ┆           ┆           ┆   ┆           ┆           ┆           ┆          │\n",
       "│ …         ┆ …         ┆ …         ┆ …         ┆ … ┆ …         ┆ …         ┆ …         ┆ …        │\n",
       "│ Creative  ┆ 18        ┆ 51        ┆ 4         ┆ … ┆ 15.384615 ┆ 44.755245 ┆ null      ┆ null     │\n",
       "│ Arts      ┆           ┆           ┆           ┆   ┆           ┆           ┆           ┆          │\n",
       "│ Charter   ┆           ┆           ┆           ┆   ┆           ┆           ┆           ┆          │\n",
       "│ Yu (Alice ┆ 352       ┆ 33        ┆ 42        ┆ … ┆ 14.091681 ┆ 4.923599  ┆ null      ┆ 0.509338 │\n",
       "│ Fong) Ele ┆           ┆           ┆           ┆   ┆           ┆           ┆           ┆          │\n",
       "│ mentary   ┆           ┆           ┆           ┆   ┆           ┆           ┆           ┆          │\n",
       "│ Chin      ┆ 207       ┆ 2         ┆ 8         ┆ … ┆ 1.185771  ┆ 5.928854  ┆ null      ┆ null     │\n",
       "│ (John     ┆           ┆           ┆           ┆   ┆           ┆           ┆           ┆          │\n",
       "│ Yehall)   ┆           ┆           ┆           ┆   ┆           ┆           ┆           ┆          │\n",
       "│ Elementar ┆           ┆           ┆           ┆   ┆           ┆           ┆           ┆          │\n",
       "│ y         ┆           ┆           ┆           ┆   ┆           ┆           ┆           ┆          │\n",
       "│ Sunset    ┆ 222       ┆ 3         ┆ 26        ┆ … ┆ 11.91067  ┆ 17.617866 ┆ null      ┆ null     │\n",
       "│ Elementar ┆           ┆           ┆           ┆   ┆           ┆           ┆           ┆          │\n",
       "│ y         ┆           ┆           ┆           ┆   ┆           ┆           ┆           ┆          │\n",
       "│ Tenderloi ┆ 38        ┆ 26        ┆ 13        ┆ … ┆ 5.035971  ┆ 11.151079 ┆ 0.719424  ┆ null     │\n",
       "│ n         ┆           ┆           ┆           ┆   ┆           ┆           ┆           ┆          │\n",
       "│ Community ┆           ┆           ┆           ┆   ┆           ┆           ┆           ┆          │\n",
       "└───────────┴───────────┴───────────┴───────────┴───┴───────────┴───────────┴───────────┴──────────┘"
      ]
     },
     "execution_count": 21,
     "metadata": {},
     "output_type": "execute_result"
    }
   ],
   "source": [
    "# pivot the dataset by school wtih whole shool demographics as columns\n",
    "sf_unified_pivoted = sf_unified_percentages.pivot(\n",
    "    index=['SchoolName'],\n",
    "    on='Race/Ethnicity',\n",
    "    values=['GR_ALL', 'GR_ALL_PCT']\n",
    ")\n",
    "\n",
    "# Generate the rename mapping dynamically\n",
    "rename_mapping = {}\n",
    "for category in reporting_category_map.values():\n",
    "    # For student count columns\n",
    "    rename_mapping[f'GR_ALL_{category}'] = f'{category.lower().replace(' ', '_')}_students'\n",
    "    \n",
    "    # For percentage columns\n",
    "    rename_mapping[f'GR_ALL_PCT_{category}'] = f'{category.lower().replace(' ', '_')}_percent'\n",
    "\n",
    "\n",
    "# Rename the columns\n",
    "sf_unified_pivoted = sf_unified_pivoted.rename(rename_mapping)\n",
    "\n",
    "\n",
    "# replace spaces with underscores in column names\n",
    "sf_unified_pivoted = sf_unified_pivoted\\\n",
    "    .rename({\n",
    "        col: col.replace(' ', '') for col in sf_unified_pivoted.columns\n",
    "    }) \\\n",
    "    .rename({\n",
    "        'SchoolName': 'school_name'\n",
    "    })\n",
    "\n",
    "\n",
    "# normalize school names\n",
    "sf_unified_pivoted = sf_unified_pivoted.with_columns(\n",
    "    polars.col(\"school_name\").str.replace(\n",
    "        r\"Asawa \\(Ruth\\) SF Sch of the Arts\\, A Public School\\b\", \n",
    "        \"Asawa (Ruth) SF Sch of the Arts A Public School\"\n",
    "    )\n",
    ")\n",
    "\n",
    "sf_unified_pivoted.write_csv(workspace_path.joinpath('data/processed/race_ethnicity_demographics.csv'))\n",
    "sf_unified_pivoted\n"
   ]
  },
  {
   "cell_type": "code",
   "execution_count": null,
   "metadata": {},
   "outputs": [],
   "source": []
  }
 ],
 "metadata": {
  "kernelspec": {
   "display_name": "Python 3 (ipykernel)",
   "language": "python",
   "name": "python3"
  },
  "language_info": {
   "codemirror_mode": {
    "name": "ipython",
    "version": 3
   },
   "file_extension": ".py",
   "mimetype": "text/x-python",
   "name": "python",
   "nbconvert_exporter": "python",
   "pygments_lexer": "ipython3",
   "version": "3.12.6"
  }
 },
 "nbformat": 4,
 "nbformat_minor": 2
}
