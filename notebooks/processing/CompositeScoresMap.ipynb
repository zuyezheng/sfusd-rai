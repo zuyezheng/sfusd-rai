{
 "cells": [
  {
   "cell_type": "markdown",
   "metadata": {},
   "source": [
    "# Composite Scores Map Processing\n",
    "\n",
    "Breakdown of composite scores for schools are found at: https://pyj2z6-michael-chrzan.shinyapps.io/Map-App/.\n",
    "\n",
    "The xhr_streaming response contains the actual data which needs some processing."
   ]
  },
  {
   "cell_type": "code",
   "execution_count": 89,
   "metadata": {},
   "outputs": [],
   "source": [
    "%run notebooks/Setup.ipynb\n",
    "\n",
    "import json\n",
    "import polars as polars"
   ]
  },
  {
   "cell_type": "code",
   "execution_count": 90,
   "metadata": {},
   "outputs": [],
   "source": [
    "with open(workspace_path.joinpath('data/raw/rai/composite_scores_map.response'), 'r') as f:\n",
    "    composite_scores_string = f.read()\n",
    "\n",
    "# need to parse twice since json encoded string\n",
    "composite_scores = json.loads(json.loads(composite_scores_string))\n"
   ]
  },
  {
   "cell_type": "code",
   "execution_count": 91,
   "metadata": {},
   "outputs": [
    {
     "data": {
      "text/plain": [
       "101"
      ]
     },
     "execution_count": 91,
     "metadata": {},
     "output_type": "execute_result"
    }
   ],
   "source": [
    "# looks like there are multiple layers of data, this is the one we care about, get a sanity check with number of schools\n",
    "len(composite_scores['values']['school_map']['x']['data'][8]['text'])"
   ]
  },
  {
   "cell_type": "markdown",
   "metadata": {},
   "source": [
    "## Process JSON into CSV"
   ]
  },
  {
   "cell_type": "code",
   "execution_count": 94,
   "metadata": {},
   "outputs": [
    {
     "data": {
      "text/html": [
       "<div><style>\n",
       ".dataframe > thead > tr,\n",
       ".dataframe > tbody > tr {\n",
       "  text-align: right;\n",
       "  white-space: pre-wrap;\n",
       "}\n",
       "</style>\n",
       "<small>shape: (101, 8)</small><table border=\"1\" class=\"dataframe\"><thead><tr><th>longitude</th><th>latitude</th><th>school_name</th><th>composite_score</th><th>composite_score_rank</th><th>equity_rank</th><th>excellence_rank</th><th>efficiency_rank</th></tr><tr><td>f64</td><td>f64</td><td>str</td><td>f64</td><td>i64</td><td>i64</td><td>i64</td><td>i64</td></tr></thead><tbody><tr><td>-122.492016</td><td>37.777765</td><td>&quot;Washington (George) High&quot;</td><td>72.91</td><td>97</td><td>81</td><td>52</td><td>98</td></tr><tr><td>-122.490093</td><td>37.780842</td><td>&quot;Presidio Middle&quot;</td><td>51.16</td><td>83</td><td>52</td><td>44</td><td>94</td></tr><tr><td>-122.496864</td><td>37.777548</td><td>&quot;Lafayette Elementary&quot;</td><td>23.61</td><td>20</td><td>7</td><td>96</td><td>48</td></tr><tr><td>-122.482727</td><td>37.783034</td><td>&quot;Alamo Elementary&quot;</td><td>14.13</td><td>5</td><td>6</td><td>74</td><td>35</td></tr><tr><td>-122.476784</td><td>37.775159</td><td>&quot;Argonne Elementary&quot;</td><td>11.46</td><td>1</td><td>4</td><td>75</td><td>40</td></tr><tr><td>&hellip;</td><td>&hellip;</td><td>&hellip;</td><td>&hellip;</td><td>&hellip;</td><td>&hellip;</td><td>&hellip;</td><td>&hellip;</td></tr><tr><td>-122.436348</td><td>37.759142</td><td>&quot;Milk (Harvey) Civil Rights Ele…</td><td>21.5</td><td>17</td><td>9</td><td>73</td><td>71</td></tr><tr><td>-122.428692</td><td>37.764027</td><td>&quot;Everett Middle&quot;</td><td>15.2</td><td>8</td><td>79</td><td>1</td><td>4</td></tr><tr><td>-122.443403</td><td>37.803091</td><td>&quot;Lilienthal (Claire) Elementary&quot;</td><td>40.88</td><td>65</td><td>31</td><td>87</td><td>61</td></tr><tr><td>-122.436362</td><td>37.801764</td><td>&quot;Marina Middle&quot;</td><td>35.98</td><td>54</td><td>65</td><td>17</td><td>49</td></tr><tr><td>-122.426452</td><td>37.798182</td><td>&quot;Sherman Elementary&quot;</td><td>13.85</td><td>3</td><td>15</td><td>64</td><td>14</td></tr></tbody></table></div>"
      ],
      "text/plain": [
       "shape: (101, 8)\n",
       "┌────────────┬───────────┬────────────┬────────────┬───────────┬───────────┬───────────┬───────────┐\n",
       "│ longitude  ┆ latitude  ┆ school_nam ┆ composite_ ┆ composite ┆ equity_ra ┆ excellenc ┆ efficienc │\n",
       "│ ---        ┆ ---       ┆ e          ┆ score      ┆ _score_ra ┆ nk        ┆ e_rank    ┆ y_rank    │\n",
       "│ f64        ┆ f64       ┆ ---        ┆ ---        ┆ nk        ┆ ---       ┆ ---       ┆ ---       │\n",
       "│            ┆           ┆ str        ┆ f64        ┆ ---       ┆ i64       ┆ i64       ┆ i64       │\n",
       "│            ┆           ┆            ┆            ┆ i64       ┆           ┆           ┆           │\n",
       "╞════════════╪═══════════╪════════════╪════════════╪═══════════╪═══════════╪═══════════╪═══════════╡\n",
       "│ -122.49201 ┆ 37.777765 ┆ Washington ┆ 72.91      ┆ 97        ┆ 81        ┆ 52        ┆ 98        │\n",
       "│ 6          ┆           ┆ (George)   ┆            ┆           ┆           ┆           ┆           │\n",
       "│            ┆           ┆ High       ┆            ┆           ┆           ┆           ┆           │\n",
       "│ -122.49009 ┆ 37.780842 ┆ Presidio   ┆ 51.16      ┆ 83        ┆ 52        ┆ 44        ┆ 94        │\n",
       "│ 3          ┆           ┆ Middle     ┆            ┆           ┆           ┆           ┆           │\n",
       "│ -122.49686 ┆ 37.777548 ┆ Lafayette  ┆ 23.61      ┆ 20        ┆ 7         ┆ 96        ┆ 48        │\n",
       "│ 4          ┆           ┆ Elementary ┆            ┆           ┆           ┆           ┆           │\n",
       "│ -122.48272 ┆ 37.783034 ┆ Alamo      ┆ 14.13      ┆ 5         ┆ 6         ┆ 74        ┆ 35        │\n",
       "│ 7          ┆           ┆ Elementary ┆            ┆           ┆           ┆           ┆           │\n",
       "│ -122.47678 ┆ 37.775159 ┆ Argonne    ┆ 11.46      ┆ 1         ┆ 4         ┆ 75        ┆ 40        │\n",
       "│ 4          ┆           ┆ Elementary ┆            ┆           ┆           ┆           ┆           │\n",
       "│ …          ┆ …         ┆ …          ┆ …          ┆ …         ┆ …         ┆ …         ┆ …         │\n",
       "│ -122.43634 ┆ 37.759142 ┆ Milk       ┆ 21.5       ┆ 17        ┆ 9         ┆ 73        ┆ 71        │\n",
       "│ 8          ┆           ┆ (Harvey)   ┆            ┆           ┆           ┆           ┆           │\n",
       "│            ┆           ┆ Civil      ┆            ┆           ┆           ┆           ┆           │\n",
       "│            ┆           ┆ Rights     ┆            ┆           ┆           ┆           ┆           │\n",
       "│            ┆           ┆ Ele…       ┆            ┆           ┆           ┆           ┆           │\n",
       "│ -122.42869 ┆ 37.764027 ┆ Everett    ┆ 15.2       ┆ 8         ┆ 79        ┆ 1         ┆ 4         │\n",
       "│ 2          ┆           ┆ Middle     ┆            ┆           ┆           ┆           ┆           │\n",
       "│ -122.44340 ┆ 37.803091 ┆ Lilienthal ┆ 40.88      ┆ 65        ┆ 31        ┆ 87        ┆ 61        │\n",
       "│ 3          ┆           ┆ (Claire)   ┆            ┆           ┆           ┆           ┆           │\n",
       "│            ┆           ┆ Elementary ┆            ┆           ┆           ┆           ┆           │\n",
       "│ -122.43636 ┆ 37.801764 ┆ Marina     ┆ 35.98      ┆ 54        ┆ 65        ┆ 17        ┆ 49        │\n",
       "│ 2          ┆           ┆ Middle     ┆            ┆           ┆           ┆           ┆           │\n",
       "│ -122.42645 ┆ 37.798182 ┆ Sherman    ┆ 13.85      ┆ 3         ┆ 15        ┆ 64        ┆ 14        │\n",
       "│ 2          ┆           ┆ Elementary ┆            ┆           ┆           ┆           ┆           │\n",
       "└────────────┴───────────┴────────────┴────────────┴───────────┴───────────┴───────────┴───────────┘"
      ]
     },
     "execution_count": 94,
     "metadata": {},
     "output_type": "execute_result"
    }
   ],
   "source": [
    "data_layer = composite_scores['values']['school_map']['x']['data'][8]\n",
    "\n",
    "# create a polars dataframe from the x, y, and text attributes in data_layer\n",
    "data_layer_df = polars.DataFrame({\n",
    "    'x': data_layer['x'],\n",
    "    'y': data_layer['y'],\n",
    "    'text': data_layer['text']\n",
    "})\n",
    "\n",
    "# the text attribute is a html string such as:\n",
    "# Lilienthal (Claire) Elementary <br /> Composite Score:  40.88 <br /> Composite Score Rank:  65 <br /> Equity Rank:  31 <br /> Excellence Rank:  87 <br /> Efficiency Rank:  61\n",
    "# we want to use the first as the school name, and the rest as attributes to add to the existing data frame\n",
    "# Split the text into separate columns\n",
    "data_layer_df = data_layer_df.with_columns(\n",
    "    polars.col('text').str.split('<br />')\n",
    ").with_columns(\n",
    "    school_name=polars.col('text').list.get(0).str.strip_chars(),\n",
    "    composite_score=polars.col('text').list.get(1).str.extract(r'Composite Score:\\s*([\\d.]+)'),\n",
    "    composite_score_rank=polars.col('text').list.get(2).str.extract(r'Composite Score Rank:\\s*(\\d+)'),\n",
    "    equity_rank=polars.col('text').list.get(3).str.extract(r'Equity Rank:\\s*(\\d+)'),\n",
    "    excellence_rank=polars.col('text').list.get(4).str.extract(r'Excellence Rank:\\s*(\\d+)'),\n",
    "    efficiency_rank=polars.col('text').list.get(5).str.extract(r'Efficiency Rank:\\s*(\\d+)')\n",
    ")\n",
    "\n",
    "# do some conversions\n",
    "data_layer_df = data_layer_df.with_columns(\n",
    "    composite_score=polars.col('composite_score').cast(polars.Float64),\n",
    "    composite_score_rank=polars.col('composite_score_rank').cast(polars.Int64),\n",
    "    equity_rank=polars.col('equity_rank').cast(polars.Int64),\n",
    "    excellence_rank=polars.col('excellence_rank').cast(polars.Int64),\n",
    "    efficiency_rank=polars.col('efficiency_rank').cast(polars.Int64)\n",
    ").drop('text')\n",
    "\n",
    "# rename columns 'x' to 'longitude' and 'y' to 'latitude'\n",
    "data_layer_df = data_layer_df.rename({\n",
    "    'x': 'longitude',\n",
    "    'y': 'latitude'\n",
    "})\n",
    "\n",
    "data_layer_df"
   ]
  },
  {
   "cell_type": "code",
   "execution_count": 95,
   "metadata": {},
   "outputs": [],
   "source": [
    "# save the initial csv\n",
    "data_layer_df.write_csv(workspace_path.joinpath('data/processed/composite_scores_raw.csv'))"
   ]
  },
  {
   "cell_type": "code",
   "execution_count": null,
   "metadata": {},
   "outputs": [],
   "source": []
  }
 ],
 "metadata": {
  "kernelspec": {
   "display_name": "Python 3 (ipykernel)",
   "language": "python",
   "name": "python3"
  }
 },
 "nbformat": 4,
 "nbformat_minor": 2
}
